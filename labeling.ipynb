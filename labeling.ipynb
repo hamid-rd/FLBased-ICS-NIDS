{
 "cells": [
  {
   "cell_type": "markdown",
   "id": "e36bcee7",
   "metadata": {},
   "source": [
    "### CICModbus2023 Flow labeling "
   ]
  },
  {
   "cell_type": "code",
   "execution_count": 143,
   "id": "2be0d9b9",
   "metadata": {},
   "outputs": [
    {
     "name": "stdout",
     "output_type": "stream",
     "text": [
      "num of total fix-ordered dataset files  170\n",
      "num of benign dataset files 62\n",
      "num of attack dataset files 108\n",
      "num of attack logs  34\n"
     ]
    }
   ],
   "source": [
    "import os\n",
    "from pathlib import Path\n",
    "import pandas as pd\n",
    "import numpy as np\n",
    "import glob\n",
    "import os\n",
    "from sys import platform\n",
    "import datetime\n",
    "\n",
    "datasets = []\n",
    "\n",
    "root_dir = \"./ModbusDataset\"\n",
    "\n",
    "def find_csv_files_in_folder(start_path,folder_name):\n",
    "    csv_files = []\n",
    "    for root, dirs, files in os.walk(start_path):\n",
    "        # Check if \"attack logs\" or \"attacker logs\" is in the path\n",
    "        if folder_name in root.split(os.sep) :\n",
    "            csv_files.extend([os.path.join(root, f) for f in files if f.endswith('.csv')])\n",
    "    return csv_files\n",
    "\n",
    "def print_csv(datasets_dir_list,replace_dir):\n",
    "    for i,dataset in enumerate(datasets_dir_list) :\n",
    "        print(i+1,dataset.replace(replace_dir,\"\"))\n",
    "\n",
    "datasets_dir = find_csv_files_in_folder(root_dir,\"output\")\n",
    "attack_logs_dir = find_csv_files_in_folder(root_dir,\"attack logs\")\n",
    "attack_logs_dir.extend(find_csv_files_in_folder(root_dir,\"attacker logs\"))\n",
    "benign_datasets_dir = [ds for ds in datasets_dir  if ds.find(\"benign\")!=(-1)]\n",
    "attack_dataset_dir = [ds for ds in datasets_dir  if ds.find(\"attack\")!=(-1)]\n",
    "print(\"num of total fix-ordered dataset files \",len(datasets_dir))\n",
    "print(\"num of benign dataset files\",len(benign_datasets_dir))\n",
    "print(\"num of attack dataset files\",len(attack_dataset_dir))\n",
    "print(\"num of attack logs \",len(attack_logs_dir))\n"
   ]
  },
  {
   "cell_type": "code",
   "execution_count": 145,
   "id": "587b99a6",
   "metadata": {},
   "outputs": [
    {
     "name": "stdout",
     "output_type": "stream",
     "text": [
      "list of csv dataset directories under ./ModbusDataset/*\n",
      "1 attack/external/network-wide/output/network-wide-normal-1_fix_ord.pcap_Flow.csv\n",
      "2 attack/external/network-wide/output/network-wide-normal-0_fix_ord.pcap_Flow.csv\n",
      "3 attack/external/ied4c/ied4c-network-capture/output/veth8bc3408-0_fix_ord.pcap_Flow.csv\n",
      "4 attack/external/external-attacker/external-attacker-network-capture/output/veth665f3cf-0_fix_ord.pcap_Flow.csv\n",
      "5 attack/external/ied1b/ied1b-network-capture/output/vethd9e14c0-0_fix_ord.pcap_Flow.csv\n",
      "6 attack/external/scada-hmi/scada-hmi-network-capture/output/veth5bbeaa2-0_fix_ord.pcap_Flow.csv\n",
      "7 attack/external/central-agent/central-agent-network-capture/output/veth460b141-0_fix_ord.pcap_Flow.csv\n",
      "8 attack/external/ied1a/ied1a-network-capture/output/veth4edc015-0_fix_ord.pcap_Flow.csv\n",
      "9 attack/compromised-scada/ied4c/ied4c-network-captures/output/vethe685ac9-4_fix_ord.pcap_Flow.csv\n",
      "10 attack/compromised-scada/ied4c/ied4c-network-captures/output/vethe685ac9-3_fix_ord.pcap_Flow.csv\n",
      "11 attack/compromised-scada/ied4c/ied4c-network-captures/output/vethe685ac9-1_fix_ord.pcap_Flow.csv\n",
      "12 attack/compromised-scada/ied4c/ied4c-network-captures/output/vethe685ac9-0_fix_ord.pcap_Flow.csv\n",
      "13 attack/compromised-scada/ied4c/ied4c-network-captures/output/vethe685ac9-2_fix_ord.pcap_Flow.csv\n",
      "14 attack/compromised-scada/ied4c/ied4c-network-captures/output/vethe685ac9-5_fix_ord.pcap_Flow.csv\n",
      "15 attack/compromised-scada/ied1b/ied1b-network-captures/output/vethc76bd3f-7_fix_ord.pcap_Flow.csv\n",
      "16 attack/compromised-scada/ied1b/ied1b-network-captures/output/vethc76bd3f-0_fix_ord.pcap_Flow.csv\n",
      "17 attack/compromised-scada/ied1b/ied1b-network-captures/output/vethc76bd3f-4_fix_ord.pcap_Flow.csv\n",
      "18 attack/compromised-scada/ied1b/ied1b-network-captures/output/vethc76bd3f-6_fix_ord.pcap_Flow.csv\n",
      "19 attack/compromised-scada/ied1b/ied1b-network-captures/output/vethc76bd3f-2_fix_ord.pcap_Flow.csv\n",
      "20 attack/compromised-scada/ied1b/ied1b-network-captures/output/vethc76bd3f-5_fix_ord.pcap_Flow.csv\n",
      "21 attack/compromised-scada/ied1b/ied1b-network-captures/output/vethc76bd3f-3_fix_ord.pcap_Flow.csv\n",
      "22 attack/compromised-scada/ied1b/ied1b-network-captures/output/vethc76bd3f-1_fix_ord.pcap_Flow.csv\n",
      "23 attack/compromised-scada/scada-hmi/scada-hmi-network-capture/output/veth291ab9a-3_fix_ord.pcap_Flow.csv\n",
      "24 attack/compromised-scada/scada-hmi/scada-hmi-network-capture/output/veth291ab9a-16_fix_ord.pcap_Flow.csv\n",
      "25 attack/compromised-scada/scada-hmi/scada-hmi-network-capture/output/veth291ab9a-5_fix_ord.pcap_Flow.csv\n",
      "26 attack/compromised-scada/scada-hmi/scada-hmi-network-capture/output/veth291ab9a-1_fix_ord.pcap_Flow.csv\n",
      "27 attack/compromised-scada/scada-hmi/scada-hmi-network-capture/output/veth291ab9a-12_fix_ord.pcap_Flow.csv\n",
      "28 attack/compromised-scada/scada-hmi/scada-hmi-network-capture/output/veth291ab9a-4_fix_ord.pcap_Flow.csv\n",
      "29 attack/compromised-scada/scada-hmi/scada-hmi-network-capture/output/veth291ab9a-10_fix_ord.pcap_Flow.csv\n",
      "30 attack/compromised-scada/scada-hmi/scada-hmi-network-capture/output/veth291ab9a-14_fix_ord.pcap_Flow.csv\n",
      "31 attack/compromised-scada/scada-hmi/scada-hmi-network-capture/output/veth291ab9a-6_fix_ord.pcap_Flow.csv\n",
      "32 attack/compromised-scada/scada-hmi/scada-hmi-network-capture/output/veth291ab9a-0_fix_ord.pcap_Flow.csv\n",
      "33 attack/compromised-scada/scada-hmi/scada-hmi-network-capture/output/veth291ab9a-8_fix_ord.pcap_Flow.csv\n",
      "34 attack/compromised-scada/scada-hmi/scada-hmi-network-capture/output/veth291ab9a-11_fix_ord.pcap_Flow.csv\n",
      "35 attack/compromised-scada/scada-hmi/scada-hmi-network-capture/output/veth291ab9a-2_fix_ord.pcap_Flow.csv\n",
      "36 attack/compromised-scada/scada-hmi/scada-hmi-network-capture/output/veth291ab9a-15_fix_ord.pcap_Flow.csv\n",
      "37 attack/compromised-scada/scada-hmi/scada-hmi-network-capture/output/veth291ab9a-7_fix_ord.pcap_Flow.csv\n",
      "38 attack/compromised-scada/scada-hmi/scada-hmi-network-capture/output/veth291ab9a-13_fix_ord.pcap_Flow.csv\n",
      "39 attack/compromised-scada/scada-hmi/scada-hmi-network-capture/output/veth291ab9a-9_fix_ord.pcap_Flow.csv\n",
      "40 attack/compromised-scada/central-agent/central-agent-network-captures/output/vethffb308b-1_fix_ord.pcap_Flow.csv\n",
      "41 attack/compromised-scada/central-agent/central-agent-network-captures/output/vethffb308b-0_fix_ord.pcap_Flow.csv\n",
      "42 attack/compromised-scada/ied1a/ied1a-network-captures/output/veth3614724-1_fix_ord.pcap_Flow.csv\n",
      "43 attack/compromised-scada/ied1a/ied1a-network-captures/output/veth3614724-4_fix_ord.pcap_Flow.csv\n",
      "44 attack/compromised-scada/ied1a/ied1a-network-captures/output/veth3614724-5_fix_ord.pcap_Flow.csv\n",
      "45 attack/compromised-scada/ied1a/ied1a-network-captures/output/veth3614724-0_fix_ord.pcap_Flow.csv\n",
      "46 attack/compromised-scada/ied1a/ied1a-network-captures/output/veth3614724-3_fix_ord.pcap_Flow.csv\n",
      "47 attack/compromised-scada/ied1a/ied1a-network-captures/output/veth3614724-2_fix_ord.pcap_Flow.csv\n",
      "48 attack/compromised-scada/substation-wide-capture/output/substation-15_fix_ord.pcap_Flow.csv\n",
      "49 attack/compromised-scada/substation-wide-capture/output/substation-16_fix_ord.pcap_Flow.csv\n",
      "50 attack/compromised-scada/substation-wide-capture/output/substation-9_fix_ord.pcap_Flow.csv\n",
      "51 attack/compromised-scada/substation-wide-capture/output/substation-10_fix_ord.pcap_Flow.csv\n",
      "52 attack/compromised-scada/substation-wide-capture/output/substation-6_fix_ord.pcap_Flow.csv\n",
      "53 attack/compromised-scada/substation-wide-capture/output/substation-14_fix_ord.pcap_Flow.csv\n",
      "54 attack/compromised-scada/substation-wide-capture/output/substation-1_fix_ord.pcap_Flow.csv\n",
      "55 attack/compromised-scada/substation-wide-capture/output/substation-8_fix_ord.pcap_Flow.csv\n",
      "56 attack/compromised-scada/substation-wide-capture/output/substation-13_fix_ord.pcap_Flow.csv\n",
      "57 attack/compromised-scada/substation-wide-capture/output/substation-12_fix_ord.pcap_Flow.csv\n",
      "58 attack/compromised-scada/substation-wide-capture/output/substation-0_fix_ord.pcap_Flow.csv\n",
      "59 attack/compromised-scada/substation-wide-capture/output/substation-3_fix_ord.pcap_Flow.csv\n",
      "60 attack/compromised-scada/substation-wide-capture/output/substation-7_fix_ord.pcap_Flow.csv\n",
      "61 attack/compromised-scada/substation-wide-capture/output/substation-4_fix_ord.pcap_Flow.csv\n",
      "62 attack/compromised-scada/substation-wide-capture/output/substation-5_fix_ord.pcap_Flow.csv\n",
      "63 attack/compromised-scada/substation-wide-capture/output/substation-17_fix_ord.pcap_Flow.csv\n",
      "64 attack/compromised-scada/substation-wide-capture/output/substation-11_fix_ord.pcap_Flow.csv\n",
      "65 attack/compromised-scada/substation-wide-capture/output/substation-2_fix_ord.pcap_Flow.csv\n",
      "66 attack/compromised-ied/ied4c/ied4c-network-captures/output/vethe685ac9-4_fix_ord.pcap_Flow.csv\n",
      "67 attack/compromised-ied/ied4c/ied4c-network-captures/output/vethe685ac9-3_fix_ord.pcap_Flow.csv\n",
      "68 attack/compromised-ied/ied4c/ied4c-network-captures/output/vethe685ac9-1_fix_ord.pcap_Flow.csv\n",
      "69 attack/compromised-ied/ied4c/ied4c-network-captures/output/vethe685ac9-0_fix_ord.pcap_Flow.csv\n",
      "70 attack/compromised-ied/ied4c/ied4c-network-captures/output/vethe685ac9-2_fix_ord.pcap_Flow.csv\n",
      "71 attack/compromised-ied/ied4c/ied4c-network-captures/output/vethe685ac9-5_fix_ord.pcap_Flow.csv\n",
      "72 attack/compromised-ied/ied1b/ied1b-network-captures/output/vethc76bd3f-0_fix_ord.pcap_Flow.csv\n",
      "73 attack/compromised-ied/ied1b/ied1b-network-captures/output/vethc76bd3f-4_fix_ord.pcap_Flow.csv\n",
      "74 attack/compromised-ied/ied1b/ied1b-network-captures/output/vethc76bd3f-2_fix_ord.pcap_Flow.csv\n",
      "75 attack/compromised-ied/ied1b/ied1b-network-captures/output/vethc76bd3f-5_fix_ord.pcap_Flow.csv\n",
      "76 attack/compromised-ied/ied1b/ied1b-network-captures/output/vethc76bd3f-3_fix_ord.pcap_Flow.csv\n",
      "77 attack/compromised-ied/ied1b/ied1b-network-captures/output/vethc76bd3f-1_fix_ord.pcap_Flow.csv\n",
      "78 attack/compromised-ied/trust-scada-hmi/trust-scada-network-captures/output/veth3efd353-19_fix_ord.pcap_Flow.csv\n",
      "79 attack/compromised-ied/trust-scada-hmi/trust-scada-network-captures/output/veth3efd353-12_fix_ord.pcap_Flow.csv\n",
      "80 attack/compromised-ied/trust-scada-hmi/trust-scada-network-captures/output/veth3efd353-9_fix_ord.pcap_Flow.csv\n",
      "81 attack/compromised-ied/trust-scada-hmi/trust-scada-network-captures/output/veth3efd353-18_fix_ord.pcap_Flow.csv\n",
      "82 attack/compromised-ied/trust-scada-hmi/trust-scada-network-captures/output/veth3efd353-13_fix_ord.pcap_Flow.csv\n",
      "83 attack/compromised-ied/trust-scada-hmi/trust-scada-network-captures/output/veth3efd353-7_fix_ord.pcap_Flow.csv\n",
      "84 attack/compromised-ied/trust-scada-hmi/trust-scada-network-captures/output/veth3efd353-4_fix_ord.pcap_Flow.csv\n",
      "85 attack/compromised-ied/trust-scada-hmi/trust-scada-network-captures/output/veth3efd353-14_fix_ord.pcap_Flow.csv\n",
      "86 attack/compromised-ied/trust-scada-hmi/trust-scada-network-captures/output/veth3efd353-17_fix_ord.pcap_Flow.csv\n",
      "87 attack/compromised-ied/trust-scada-hmi/trust-scada-network-captures/output/veth3efd353-6_fix_ord.pcap_Flow.csv\n",
      "88 attack/compromised-ied/trust-scada-hmi/trust-scada-network-captures/output/veth3efd353-11_fix_ord.pcap_Flow.csv\n",
      "89 attack/compromised-ied/trust-scada-hmi/trust-scada-network-captures/output/veth3efd353-16_fix_ord.pcap_Flow.csv\n",
      "90 attack/compromised-ied/trust-scada-hmi/trust-scada-network-captures/output/veth3efd353-8_fix_ord.pcap_Flow.csv\n",
      "91 attack/compromised-ied/trust-scada-hmi/trust-scada-network-captures/output/veth3efd353-3_fix_ord.pcap_Flow.csv\n",
      "92 attack/compromised-ied/trust-scada-hmi/trust-scada-network-captures/output/veth3efd353-15_fix_ord.pcap_Flow.csv\n",
      "93 attack/compromised-ied/trust-scada-hmi/trust-scada-network-captures/output/veth3efd353-5_fix_ord.pcap_Flow.csv\n",
      "94 attack/compromised-ied/trust-scada-hmi/trust-scada-network-captures/output/veth3efd353-2_fix_ord.pcap_Flow.csv\n",
      "95 attack/compromised-ied/trust-scada-hmi/trust-scada-network-captures/output/veth3efd353-1_fix_ord.pcap_Flow.csv\n",
      "96 attack/compromised-ied/trust-scada-hmi/trust-scada-network-captures/output/veth3efd353-0_fix_ord.pcap_Flow.csv\n",
      "97 attack/compromised-ied/trust-scada-hmi/trust-scada-network-captures/output/veth3efd353-10_fix_ord.pcap_Flow.csv\n",
      "98 attack/compromised-ied/central-agent/central-agent-network-captures/output/vethffb308b-1_fix_ord.pcap_Flow.csv\n",
      "99 attack/compromised-ied/central-agent/central-agent-network-captures/output/vethffb308b-4_fix_ord.pcap_Flow.csv\n",
      "100 attack/compromised-ied/central-agent/central-agent-network-captures/output/vethffb308b-0_fix_ord.pcap_Flow.csv\n",
      "101 attack/compromised-ied/central-agent/central-agent-network-captures/output/vethffb308b-3_fix_ord.pcap_Flow.csv\n",
      "102 attack/compromised-ied/central-agent/central-agent-network-captures/output/vethffb308b-2_fix_ord.pcap_Flow.csv\n",
      "103 attack/compromised-ied/ied1a/ied1a-network-captures/output/veth3614724-1_fix_ord.pcap_Flow.csv\n",
      "104 attack/compromised-ied/ied1a/ied1a-network-captures/output/veth3614724-4_fix_ord.pcap_Flow.csv\n",
      "105 attack/compromised-ied/ied1a/ied1a-network-captures/output/veth3614724-5_fix_ord.pcap_Flow.csv\n",
      "106 attack/compromised-ied/ied1a/ied1a-network-captures/output/veth3614724-0_fix_ord.pcap_Flow.csv\n",
      "107 attack/compromised-ied/ied1a/ied1a-network-captures/output/veth3614724-3_fix_ord.pcap_Flow.csv\n",
      "108 attack/compromised-ied/ied1a/ied1a-network-captures/output/veth3614724-2_fix_ord.pcap_Flow.csv\n",
      "109 benign/network-wide-pcap-capture/network-wide/output/network-wide-normal-18_fix_ord.pcap_Flow.csv\n",
      "110 benign/network-wide-pcap-capture/network-wide/output/network-wide-normal-22_fix_ord.pcap_Flow.csv\n",
      "111 benign/network-wide-pcap-capture/network-wide/output/network-wide-normal-30_fix_ord.pcap_Flow.csv\n",
      "112 benign/network-wide-pcap-capture/network-wide/output/network-wide-normal-19_fix_ord.pcap_Flow.csv\n",
      "113 benign/network-wide-pcap-capture/network-wide/output/network-wide-normal-32_fix_ord.pcap_Flow.csv\n",
      "114 benign/network-wide-pcap-capture/network-wide/output/network-wide-normal-25_fix_ord.pcap_Flow.csv\n",
      "115 benign/network-wide-pcap-capture/network-wide/output/network-wide-normal-15_fix_ord.pcap_Flow.csv\n",
      "116 benign/network-wide-pcap-capture/network-wide/output/network-wide-normal-31_fix_ord.pcap_Flow.csv\n",
      "117 benign/network-wide-pcap-capture/network-wide/output/network-wide-normal-24_fix_ord.pcap_Flow.csv\n",
      "118 benign/network-wide-pcap-capture/network-wide/output/network-wide-normal-14_fix_ord.pcap_Flow.csv\n",
      "119 benign/network-wide-pcap-capture/network-wide/output/network-wide-normal-23_fix_ord.pcap_Flow.csv\n",
      "120 benign/network-wide-pcap-capture/network-wide/output/network-wide-normal-20_fix_ord.pcap_Flow.csv\n",
      "121 benign/network-wide-pcap-capture/network-wide/output/network-wide-normal-21_fix_ord.pcap_Flow.csv\n",
      "122 benign/network-wide-pcap-capture/network-wide/output/network-wide-normal-17_fix_ord.pcap_Flow.csv\n",
      "123 benign/network-wide-pcap-capture/network-wide/output/network-wide-normal-16_fix_ord.pcap_Flow.csv\n",
      "124 benign/network-wide-pcap-capture/network-wide/output/network-wide-normal-26_fix_ord.pcap_Flow.csv\n",
      "125 benign/network-wide-pcap-capture/network-wide/output/network-wide-normal-28_fix_ord.pcap_Flow.csv\n",
      "126 benign/network-wide-pcap-capture/network-wide/output/network-wide-normal-27_fix_ord.pcap_Flow.csv\n",
      "127 benign/network-wide-pcap-capture/network-wide/output/network-wide-normal-29_fix_ord.pcap_Flow.csv\n",
      "128 benign/ied4c/ied4c-network-capture/output/veth8bc3408-normal-10_fix_ord.pcap_Flow.csv\n",
      "129 benign/ied4c/ied4c-network-capture/output/veth8bc3408-normal-5_fix_ord.pcap_Flow.csv\n",
      "130 benign/ied4c/ied4c-network-capture/output/veth8bc3408-normal-6_fix_ord.pcap_Flow.csv\n",
      "131 benign/ied4c/ied4c-network-capture/output/veth8bc3408-normal-8_fix_ord.pcap_Flow.csv\n",
      "132 benign/ied4c/ied4c-network-capture/output/veth8bc3408-normal-11_fix_ord.pcap_Flow.csv\n",
      "133 benign/ied4c/ied4c-network-capture/output/veth8bc3408-normal-4_fix_ord.pcap_Flow.csv\n",
      "134 benign/ied4c/ied4c-network-capture/output/veth8bc3408-normal-7_fix_ord.pcap_Flow.csv\n",
      "135 benign/ied4c/ied4c-network-capture/output/veth8bc3408-normal-9_fix_ord.pcap_Flow.csv\n",
      "136 benign/ied1b/ied1b-network-capture/output/vethd9e14c0-normal-4_fix_ord.pcap_Flow.csv\n",
      "137 benign/ied1b/ied1b-network-capture/output/vethd9e14c0-normal-9_fix_ord.pcap_Flow.csv\n",
      "138 benign/ied1b/ied1b-network-capture/output/vethd9e14c0-normal-5_fix_ord.pcap_Flow.csv\n",
      "139 benign/ied1b/ied1b-network-capture/output/vethd9e14c0-normal-10_fix_ord.pcap_Flow.csv\n",
      "140 benign/ied1b/ied1b-network-capture/output/vethd9e14c0-normal-7_fix_ord.pcap_Flow.csv\n",
      "141 benign/ied1b/ied1b-network-capture/output/vethd9e14c0-normal-6_fix_ord.pcap_Flow.csv\n",
      "142 benign/ied1b/ied1b-network-capture/output/vethd9e14c0-normal-8_fix_ord.pcap_Flow.csv\n",
      "143 benign/scada-hmi/scada-hmi-network-capture/output/veth5bbeaa2-normal-27_fix_ord.pcap_Flow.csv\n",
      "144 benign/scada-hmi/scada-hmi-network-capture/output/veth5bbeaa2-normal-23_fix_ord.pcap_Flow.csv\n",
      "145 benign/scada-hmi/scada-hmi-network-capture/output/veth5bbeaa2-normal-14_fix_ord.pcap_Flow.csv\n",
      "146 benign/scada-hmi/scada-hmi-network-capture/output/veth5bbeaa2-normal-16_fix_ord.pcap_Flow.csv\n",
      "147 benign/scada-hmi/scada-hmi-network-capture/output/veth5bbeaa2-normal-18_fix_ord.pcap_Flow.csv\n",
      "148 benign/scada-hmi/scada-hmi-network-capture/output/veth5bbeaa2-normal-15_fix_ord.pcap_Flow.csv\n",
      "149 benign/scada-hmi/scada-hmi-network-capture/output/veth5bbeaa2-normal-25_fix_ord.pcap_Flow.csv\n",
      "150 benign/scada-hmi/scada-hmi-network-capture/output/veth5bbeaa2-normal-28_fix_ord.pcap_Flow.csv\n",
      "151 benign/scada-hmi/scada-hmi-network-capture/output/veth5bbeaa2-normal-29_fix_ord.pcap_Flow.csv\n",
      "152 benign/scada-hmi/scada-hmi-network-capture/output/veth5bbeaa2-normal-22_fix_ord.pcap_Flow.csv\n",
      "153 benign/scada-hmi/scada-hmi-network-capture/output/veth5bbeaa2-normal-17_fix_ord.pcap_Flow.csv\n",
      "154 benign/scada-hmi/scada-hmi-network-capture/output/veth5bbeaa2-normal-19_fix_ord.pcap_Flow.csv\n",
      "155 benign/scada-hmi/scada-hmi-network-capture/output/veth5bbeaa2-normal-13_fix_ord.pcap_Flow.csv\n",
      "156 benign/scada-hmi/scada-hmi-network-capture/output/veth5bbeaa2-normal-21_fix_ord.pcap_Flow.csv\n",
      "157 benign/scada-hmi/scada-hmi-network-capture/output/veth5bbeaa2-normal-26_fix_ord.pcap_Flow.csv\n",
      "158 benign/scada-hmi/scada-hmi-network-capture/output/veth5bbeaa2-normal-30_fix_ord.pcap_Flow.csv\n",
      "159 benign/scada-hmi/scada-hmi-network-capture/output/veth5bbeaa2-normal-20_fix_ord.pcap_Flow.csv\n",
      "160 benign/scada-hmi/scada-hmi-network-capture/output/veth5bbeaa2-normal-24_fix_ord.pcap_Flow.csv\n",
      "161 benign/scada-hmi/scada-hmi-network-capture/output/veth5bbeaa2-normal-31_fix_ord.pcap_Flow.csv\n",
      "162 benign/central-agent/central-agent-network-capture/output/veth460b141-normal_fix_ord.pcap_Flow.csv\n",
      "163 benign/ied1a/ied1a-network-capture/output/veth4edc015-normal-9_fix_ord.pcap_Flow.csv\n",
      "164 benign/ied1a/ied1a-network-capture/output/veth4edc015-normal-6_fix_ord.pcap_Flow.csv\n",
      "165 benign/ied1a/ied1a-network-capture/output/veth4edc015-normal-7_fix_ord.pcap_Flow.csv\n",
      "166 benign/ied1a/ied1a-network-capture/output/veth4edc015-normal-5_fix_ord.pcap_Flow.csv\n",
      "167 benign/ied1a/ied1a-network-capture/output/veth4edc015-normal-11_fix_ord.pcap_Flow.csv\n",
      "168 benign/ied1a/ied1a-network-capture/output/veth4edc015-normal-10_fix_ord.pcap_Flow.csv\n",
      "169 benign/ied1a/ied1a-network-capture/output/veth4edc015-normal-4_fix_ord.pcap_Flow.csv\n",
      "170 benign/ied1a/ied1a-network-capture/output/veth4edc015-normal-8_fix_ord.pcap_Flow.csv\n"
     ]
    }
   ],
   "source": [
    "\n",
    "print(\"list of csv dataset directories under ./ModbusDataset/*\")\n",
    "print_csv(datasets_dir,\"./ModbusDataset/\")"
   ]
  },
  {
   "cell_type": "code",
   "execution_count": 146,
   "id": "d4740b77",
   "metadata": {},
   "outputs": [
    {
     "name": "stdout",
     "output_type": "stream",
     "text": [
      "list of csv attack logs directories under (.ModbusDataset/attack/*)\n",
      "1 compromised-scada/attack logs/03-18-2023/03-18-2023-1.csv\n",
      "2 compromised-scada/attack logs/03-16-2023/03-16-2023-1.csv\n",
      "3 compromised-scada/attack logs/03-16-2023/03-16-2023-2.csv\n",
      "4 compromised-scada/attack logs/03-16-2023/03-16-2023-3.csv\n",
      "5 compromised-scada/attack logs/03-20-2023/03-20-2023-1.csv\n",
      "6 compromised-scada/attack logs/03-22-2023/03-22-2023-1.csv\n",
      "7 compromised-scada/attack logs/03-14-2023/03-14-2023-2.csv\n",
      "8 compromised-scada/attack logs/03-14-2023/03-14-2023-1.csv\n",
      "9 compromised-scada/attack logs/03-14-2023/03-14-2023-3.csv\n",
      "10 compromised-scada/attack logs/03-15-2023/03-15-2023-2.csv\n",
      "11 compromised-scada/attack logs/03-15-2023/03-15-2023-3.csv\n",
      "12 compromised-scada/attack logs/03-15-2023/03-15-2023-1.csv\n",
      "13 compromised-scada/attack logs/03-17-2023/03-17-2023-2.csv\n",
      "14 compromised-scada/attack logs/03-17-2023/03-17-2023-1.csv\n",
      "15 compromised-scada/attack logs/03-13-2023/03-13-2023-1.csv\n",
      "16 compromised-scada/attack logs/03-13-2023/03-13-2023-2.csv\n",
      "17 compromised-scada/attack logs/03-19-2023/03-19-2023-1.csv\n",
      "18 compromised-scada/attack logs/03-21-2023/03-21-2023-1-original.csv\n",
      "19 compromised-scada/attack logs/03-12-2023/03-12-2023-1.csv\n",
      "20 compromised-scada/attack logs/03-12-2023/03-12-2023-2.csv\n",
      "21 compromised-scada/attack logs/03-12-2023/03-12-2023-3.csv\n",
      "22 compromised-ied/attack logs/03-26-2023/03-26-2023-1.csv\n",
      "23 compromised-ied/attack logs/03-29-2023/03-29-2023-1.csv\n",
      "24 compromised-ied/attack logs/03-27-2023/03-27-2023-1.csv\n",
      "25 compromised-ied/attack logs/03-23-2023/03-23-2023-1.csv\n",
      "26 compromised-ied/attack logs/03-25-2023/03-25-2023-1.csv\n",
      "27 compromised-ied/attack logs/03-24-2023/03-24-2023-1.csv\n",
      "28 compromised-ied/attack logs/03-28-2023/03-28-2023-1.csv\n",
      "29 external/external-attacker/attacker logs/02-01-2023/02-01-2023-1.csv\n",
      "30 external/external-attacker/attacker logs/12-29-2022/12-29-2022-1.csv\n",
      "31 external/external-attacker/attacker logs/01-17-2023/01-17-2023-1.csv\n",
      "32 external/external-attacker/attacker logs/01-02-2023/01-02-2023-1.csv\n",
      "33 external/external-attacker/attacker logs/12-30-2022/12-30-2022-1.csv\n",
      "34 external/external-attacker/attacker logs/01-01-2023/01-01-2023-1.csv\n"
     ]
    }
   ],
   "source": [
    "\n",
    "print(\"list of csv attack logs directories under (.ModbusDataset/attack/*)\")\n",
    "print_csv(attack_logs_dir,\"./ModbusDataset/attack/\")"
   ]
  },
  {
   "cell_type": "markdown",
   "id": "2a7332a1",
   "metadata": {},
   "source": [
    "#### Labeling functions\n"
   ]
  },
  {
   "cell_type": "code",
   "execution_count": 164,
   "id": "8f234993",
   "metadata": {},
   "outputs": [],
   "source": [
    "# Basic preprocessing before getting started on labelling.\n",
    "# Deletes rows with \"Infinity\" and NaNs, converts \"Timestamp\" to Pandas Datetime, and converts all necessary columns to numeric values\n",
    "# throw away 'Src IP', 'Dst IP'\n",
    "# Attempted-Category ,Int_64 Columns label wasn't considered \n",
    "\n",
    "print_index = False\n",
    "\n",
    "def format_csv_for_labelling(df):\n",
    "    df = df.replace('Infinity', np.nan)\n",
    "    # Clean the Timestamp strings to always include microseconds (append .0 if missing)\n",
    "    df['Timestamp'] = pd.to_datetime(\n",
    "        df['Timestamp'].apply(\n",
    "            lambda x: x if '.' in x.split()[-1] else f\"{x}.0\"  # Split into date/time and check time part\n",
    "        ),\n",
    "        format='%Y-%m-%d %H:%M:%S.%f'  # Parse with microseconds\n",
    "    )\n",
    "    for column in df.columns:\n",
    "        if column not in ['Flow ID' , 'Timestamp', 'Src IP', 'Dst IP', 'Label']:\n",
    "            df[column] = pd.to_numeric(df[column], errors='coerce')\n",
    "    df.dropna()\n",
    "    return df.dropna()\n",
    "\n",
    "def read_csvs_from_path_and_reformat(path):\n",
    "    df = pd.read_csv(path, encoding='cp1252')\n",
    "\n",
    "    df = format_csv_for_labelling(df)\n",
    "    print(\"labels after pre-processing:\\n\", df[\"Label\"].value_counts())\n",
    "\n",
    "    int32_columns = [\"Src Port\", \"Dst Port\", \"Flow Duration\", \"Total Fwd Packet\", \"Total Bwd packets\", \"Total Length of Fwd Packet\", \"Total Length of Bwd Packet\", \"Fwd Packet Length Max\",\n",
    "        \"Fwd Packet Length Min\", \"Bwd Packet Length Max\", \"Bwd Packet Length Min\", \"Flow IAT Max\", \"Flow IAT Min\", \"Fwd IAT Total\", \"Fwd IAT Max\", \"Fwd IAT Min\", \"Bwd IAT Total\",\n",
    "        \"Bwd IAT Max\", \"Bwd IAT Min\", \"Fwd PSH Flags\", \"Bwd PSH Flags\", \"Fwd URG Flags\", \"Bwd URG Flags\", \"Packet Length Min\", \"Packet Length Max\", \"FIN Flag Count\", \"SYN Flag Count\", \"RST Flag Count\", \"PSH Flag Count\",\n",
    "        \"ACK Flag Count\", \"URG Flag Count\", \"CWR Flag Count\", \"ECE Flag Count\", \"Subflow Fwd Packets\", \"Subflow Fwd Bytes\",\n",
    "        \"Subflow Bwd Packets\", \"Subflow Bwd Bytes\", \"FWD Init Win Bytes\", \"Bwd Init Win Bytes\", \"Fwd Act Data Pkts\", \"Fwd Seg Size Min\", \"Active Max\",\n",
    "        \"Active Min\", \"Idle Max\", \"Idle Min\"]\n",
    "\n",
    "    int16_columns = [\"Fwd Header Length\", \"Bwd Header Length\", \"ICMP Code\", \"ICMP Type\"]\n",
    "\n",
    "    for column in int32_columns:\n",
    "        df[column] = df[column].astype('int32')\n",
    "\n",
    "    for column in int16_columns:\n",
    "        df[column] = df[column].astype('int16')\n",
    "\n",
    "    return df\n",
    "\n",
    "# Main labelling function. Only used for labelling Malicious flows.\n",
    "# Timestamps are in NANOSECONDS (!) Unix time. Note that the CSV files are in the UTC timezone.\n",
    "# df = dataframe with flows. Note that labelling happens inplace on the 'df' parameter, and so this function doesn't return anything\n",
    "# label = the label that will be given to flows matching the criteria specified in the function\n",
    "# additional_filters = add any additional constraints that cannot be covered by the already provided function arguments\n",
    "# There is no attempted_category label \n",
    "# for details on how the \"Attempted\" categories are defined:  (https://intrusion-detection.distrinet-research.be/CNS2022/Tools_Documentation.html)\n",
    "# payload_filter = When set to true, this will automatically add a constraint [\"Total Length of Fwd Packet\"] == 0. Note that\n",
    "\n",
    "def label_flows(df, label, attack_start_time_nanoseconds, attack_end_time_nanoseconds, src_ip_list=None,\n",
    "                dst_ip_list= None, src_port_list=None, dst_port_list=None, additional_filters=[], attempted_category=-1, payload_filter=False):\n",
    "\n",
    "    # Create initial mask for whole df with all values set to True. Squeeze is necessary to remove second axis (with value 1)\n",
    "    # The reason is that a df of shape (X,) gets converted to (1,X) if you '&' it with a df of shape (X,1)\n",
    "    mask = pd.DataFrame(True,index=df.index,columns=[df.columns[0]]).squeeze()\n",
    "\n",
    "    attack_start_datetime = pd.to_datetime(attack_start_time_nanoseconds, unit='ns')\n",
    "    attack_end_datetime = pd.to_datetime(attack_end_time_nanoseconds, unit='ns')\n",
    "\n",
    "    mask &= (df[\"Timestamp\"] >= attack_start_datetime)\n",
    "    mask &= (df[\"Timestamp\"] <= attack_end_datetime)\n",
    "\n",
    "    if src_ip_list is not None:\n",
    "        mask &= (df[\"Src IP\"].isin(src_ip_list))\n",
    "    if dst_ip_list is not None:\n",
    "        mask &= (df[\"Dst IP\"].isin(dst_ip_list))\n",
    "\n",
    "    if src_port_list is not None:\n",
    "        mask &= (df[\"Src Port\"].isin(src_port_list))\n",
    "    if dst_port_list is not None:\n",
    "        mask &= (df[\"Dst Port\"].isin(dst_port_list))\n",
    "\n",
    "    if payload_filter:\n",
    "        mask &= (df[\"Total Length of Fwd Packet\"] == 0)\n",
    "\n",
    "    for filter in additional_filters:\n",
    "        mask &= filter\n",
    "\n",
    "    df[\"Label\"].mask(mask, label, inplace=True)\n",
    "    df[\"Attempted Category\"].mask(mask, attempted_category, inplace=True)\n",
    "\n",
    "# This function is called when all labelling of malicious flows is completed. Anything that has not yet received a label\n",
    "# so far is labelled as Benign.\n",
    "def label_rest_as_benign_and_write_csv(df, input_path):\n",
    "    \n",
    "    df[\"Label\"].mask(df[\"Label\"] == \"NeedManualLabel\", \"BENIGN\", inplace=True)\n",
    "    print(\"label count after labelling:\\r\\n\", df[\"Label\"].value_counts())\n",
    "    # Construct the ready directory path alongside output\n",
    "    ready_dir = os.path.join(os.path.dirname(os.path.dirname(input_path)), 'ready')\n",
    "    os.makedirs(ready_dir, exist_ok=True)\n",
    "    filename = os.path.basename(dir)\n",
    "    name, ext = os.path.splitext(filename)  # Split the extension (name, \".csv\")\n",
    "    cleaned_name = name.replace(\"_fix_ord.pcap_Flow\", \"-labeled\")\n",
    "    # Construct full output path\n",
    "    output_path = os.path.join(ready_dir, f\"{cleaned_name}{ext}\")  # Append extension\n",
    "    # Adds line numbers in the first column if print_index is set to true\n",
    "    if print_index:\n",
    "        df.reset_index(inplace=True, drop=True)\n",
    "        df.index += 1\n",
    "        df.index.name = 'id'\n",
    "        df.to_csv(output_path)\n",
    "    else:\n",
    "        df.to_csv(output_path, index=False)\n"
   ]
  },
  {
   "cell_type": "code",
   "execution_count": 165,
   "id": "dbd671e1",
   "metadata": {},
   "outputs": [
    {
     "name": "stdout",
     "output_type": "stream",
     "text": [
      "./ModbusDataset/benign/network-wide-pcap-capture/network-wide/output/network-wide-normal-18_fix_ord.pcap_Flow.csv\n",
      "labels after pre-processing:\n",
      " Label\n",
      "NeedManualLabel    153041\n",
      "Name: count, dtype: int64\n",
      "label count after labelling:\n",
      " Label\n",
      "BENIGN    153041\n",
      "Name: count, dtype: int64\n"
     ]
    },
    {
     "name": "stderr",
     "output_type": "stream",
     "text": [
      "/tmp/ipykernel_34873/2826604722.py:91: FutureWarning: A value is trying to be set on a copy of a DataFrame or Series through chained assignment using an inplace method.\n",
      "The behavior will change in pandas 3.0. This inplace method will never work because the intermediate object on which we are setting values always behaves as a copy.\n",
      "\n",
      "For example, when doing 'df[col].method(value, inplace=True)', try using 'df.method({col: value}, inplace=True)' or df[col] = df[col].method(value) instead, to perform the operation inplace on the original object.\n",
      "\n",
      "\n",
      "  df[\"Label\"].mask(df[\"Label\"] == \"NeedManualLabel\", \"BENIGN\", inplace=True)\n"
     ]
    },
    {
     "name": "stdout",
     "output_type": "stream",
     "text": [
      "./ModbusDataset/benign/network-wide-pcap-capture/network-wide/output/network-wide-normal-22_fix_ord.pcap_Flow.csv\n",
      "labels after pre-processing:\n",
      " Label\n",
      "NeedManualLabel    153868\n",
      "Name: count, dtype: int64\n",
      "label count after labelling:\n",
      " Label\n",
      "BENIGN    153868\n",
      "Name: count, dtype: int64\n"
     ]
    },
    {
     "name": "stderr",
     "output_type": "stream",
     "text": [
      "/tmp/ipykernel_34873/2826604722.py:91: FutureWarning: A value is trying to be set on a copy of a DataFrame or Series through chained assignment using an inplace method.\n",
      "The behavior will change in pandas 3.0. This inplace method will never work because the intermediate object on which we are setting values always behaves as a copy.\n",
      "\n",
      "For example, when doing 'df[col].method(value, inplace=True)', try using 'df.method({col: value}, inplace=True)' or df[col] = df[col].method(value) instead, to perform the operation inplace on the original object.\n",
      "\n",
      "\n",
      "  df[\"Label\"].mask(df[\"Label\"] == \"NeedManualLabel\", \"BENIGN\", inplace=True)\n"
     ]
    },
    {
     "name": "stdout",
     "output_type": "stream",
     "text": [
      "./ModbusDataset/benign/network-wide-pcap-capture/network-wide/output/network-wide-normal-30_fix_ord.pcap_Flow.csv\n",
      "labels after pre-processing:\n",
      " Label\n",
      "NeedManualLabel    152394\n",
      "Name: count, dtype: int64\n",
      "label count after labelling:\n",
      " Label\n",
      "BENIGN    152394\n",
      "Name: count, dtype: int64\n"
     ]
    },
    {
     "name": "stderr",
     "output_type": "stream",
     "text": [
      "/tmp/ipykernel_34873/2826604722.py:91: FutureWarning: A value is trying to be set on a copy of a DataFrame or Series through chained assignment using an inplace method.\n",
      "The behavior will change in pandas 3.0. This inplace method will never work because the intermediate object on which we are setting values always behaves as a copy.\n",
      "\n",
      "For example, when doing 'df[col].method(value, inplace=True)', try using 'df.method({col: value}, inplace=True)' or df[col] = df[col].method(value) instead, to perform the operation inplace on the original object.\n",
      "\n",
      "\n",
      "  df[\"Label\"].mask(df[\"Label\"] == \"NeedManualLabel\", \"BENIGN\", inplace=True)\n"
     ]
    },
    {
     "name": "stdout",
     "output_type": "stream",
     "text": [
      "./ModbusDataset/benign/network-wide-pcap-capture/network-wide/output/network-wide-normal-19_fix_ord.pcap_Flow.csv\n",
      "labels after pre-processing:\n",
      " Label\n",
      "NeedManualLabel    153812\n",
      "Name: count, dtype: int64\n",
      "label count after labelling:\n",
      " Label\n",
      "BENIGN    153812\n",
      "Name: count, dtype: int64\n"
     ]
    },
    {
     "name": "stderr",
     "output_type": "stream",
     "text": [
      "/tmp/ipykernel_34873/2826604722.py:91: FutureWarning: A value is trying to be set on a copy of a DataFrame or Series through chained assignment using an inplace method.\n",
      "The behavior will change in pandas 3.0. This inplace method will never work because the intermediate object on which we are setting values always behaves as a copy.\n",
      "\n",
      "For example, when doing 'df[col].method(value, inplace=True)', try using 'df.method({col: value}, inplace=True)' or df[col] = df[col].method(value) instead, to perform the operation inplace on the original object.\n",
      "\n",
      "\n",
      "  df[\"Label\"].mask(df[\"Label\"] == \"NeedManualLabel\", \"BENIGN\", inplace=True)\n"
     ]
    },
    {
     "name": "stdout",
     "output_type": "stream",
     "text": [
      "./ModbusDataset/benign/network-wide-pcap-capture/network-wide/output/network-wide-normal-32_fix_ord.pcap_Flow.csv\n",
      "labels after pre-processing:\n",
      " Label\n",
      "NeedManualLabel    71348\n",
      "Name: count, dtype: int64\n",
      "label count after labelling:\n",
      " Label\n",
      "BENIGN    71348\n",
      "Name: count, dtype: int64\n"
     ]
    },
    {
     "name": "stderr",
     "output_type": "stream",
     "text": [
      "/tmp/ipykernel_34873/2826604722.py:91: FutureWarning: A value is trying to be set on a copy of a DataFrame or Series through chained assignment using an inplace method.\n",
      "The behavior will change in pandas 3.0. This inplace method will never work because the intermediate object on which we are setting values always behaves as a copy.\n",
      "\n",
      "For example, when doing 'df[col].method(value, inplace=True)', try using 'df.method({col: value}, inplace=True)' or df[col] = df[col].method(value) instead, to perform the operation inplace on the original object.\n",
      "\n",
      "\n",
      "  df[\"Label\"].mask(df[\"Label\"] == \"NeedManualLabel\", \"BENIGN\", inplace=True)\n"
     ]
    },
    {
     "name": "stdout",
     "output_type": "stream",
     "text": [
      "./ModbusDataset/benign/network-wide-pcap-capture/network-wide/output/network-wide-normal-25_fix_ord.pcap_Flow.csv\n",
      "labels after pre-processing:\n",
      " Label\n",
      "NeedManualLabel    153378\n",
      "Name: count, dtype: int64\n",
      "label count after labelling:\n",
      " Label\n",
      "BENIGN    153378\n",
      "Name: count, dtype: int64\n"
     ]
    },
    {
     "name": "stderr",
     "output_type": "stream",
     "text": [
      "/tmp/ipykernel_34873/2826604722.py:91: FutureWarning: A value is trying to be set on a copy of a DataFrame or Series through chained assignment using an inplace method.\n",
      "The behavior will change in pandas 3.0. This inplace method will never work because the intermediate object on which we are setting values always behaves as a copy.\n",
      "\n",
      "For example, when doing 'df[col].method(value, inplace=True)', try using 'df.method({col: value}, inplace=True)' or df[col] = df[col].method(value) instead, to perform the operation inplace on the original object.\n",
      "\n",
      "\n",
      "  df[\"Label\"].mask(df[\"Label\"] == \"NeedManualLabel\", \"BENIGN\", inplace=True)\n"
     ]
    },
    {
     "name": "stdout",
     "output_type": "stream",
     "text": [
      "./ModbusDataset/benign/network-wide-pcap-capture/network-wide/output/network-wide-normal-15_fix_ord.pcap_Flow.csv\n",
      "labels after pre-processing:\n",
      " Label\n",
      "NeedManualLabel    153357\n",
      "Name: count, dtype: int64\n",
      "label count after labelling:\n",
      " Label\n",
      "BENIGN    153357\n",
      "Name: count, dtype: int64\n"
     ]
    },
    {
     "name": "stderr",
     "output_type": "stream",
     "text": [
      "/tmp/ipykernel_34873/2826604722.py:91: FutureWarning: A value is trying to be set on a copy of a DataFrame or Series through chained assignment using an inplace method.\n",
      "The behavior will change in pandas 3.0. This inplace method will never work because the intermediate object on which we are setting values always behaves as a copy.\n",
      "\n",
      "For example, when doing 'df[col].method(value, inplace=True)', try using 'df.method({col: value}, inplace=True)' or df[col] = df[col].method(value) instead, to perform the operation inplace on the original object.\n",
      "\n",
      "\n",
      "  df[\"Label\"].mask(df[\"Label\"] == \"NeedManualLabel\", \"BENIGN\", inplace=True)\n"
     ]
    },
    {
     "name": "stdout",
     "output_type": "stream",
     "text": [
      "./ModbusDataset/benign/network-wide-pcap-capture/network-wide/output/network-wide-normal-31_fix_ord.pcap_Flow.csv\n",
      "labels after pre-processing:\n",
      " Label\n",
      "NeedManualLabel    152144\n",
      "Name: count, dtype: int64\n",
      "label count after labelling:\n",
      " Label\n",
      "BENIGN    152144\n",
      "Name: count, dtype: int64\n"
     ]
    },
    {
     "name": "stderr",
     "output_type": "stream",
     "text": [
      "/tmp/ipykernel_34873/2826604722.py:91: FutureWarning: A value is trying to be set on a copy of a DataFrame or Series through chained assignment using an inplace method.\n",
      "The behavior will change in pandas 3.0. This inplace method will never work because the intermediate object on which we are setting values always behaves as a copy.\n",
      "\n",
      "For example, when doing 'df[col].method(value, inplace=True)', try using 'df.method({col: value}, inplace=True)' or df[col] = df[col].method(value) instead, to perform the operation inplace on the original object.\n",
      "\n",
      "\n",
      "  df[\"Label\"].mask(df[\"Label\"] == \"NeedManualLabel\", \"BENIGN\", inplace=True)\n"
     ]
    },
    {
     "name": "stdout",
     "output_type": "stream",
     "text": [
      "./ModbusDataset/benign/network-wide-pcap-capture/network-wide/output/network-wide-normal-24_fix_ord.pcap_Flow.csv\n",
      "labels after pre-processing:\n",
      " Label\n",
      "NeedManualLabel    153155\n",
      "Name: count, dtype: int64\n",
      "label count after labelling:\n",
      " Label\n",
      "BENIGN    153155\n",
      "Name: count, dtype: int64\n"
     ]
    },
    {
     "name": "stderr",
     "output_type": "stream",
     "text": [
      "/tmp/ipykernel_34873/2826604722.py:91: FutureWarning: A value is trying to be set on a copy of a DataFrame or Series through chained assignment using an inplace method.\n",
      "The behavior will change in pandas 3.0. This inplace method will never work because the intermediate object on which we are setting values always behaves as a copy.\n",
      "\n",
      "For example, when doing 'df[col].method(value, inplace=True)', try using 'df.method({col: value}, inplace=True)' or df[col] = df[col].method(value) instead, to perform the operation inplace on the original object.\n",
      "\n",
      "\n",
      "  df[\"Label\"].mask(df[\"Label\"] == \"NeedManualLabel\", \"BENIGN\", inplace=True)\n"
     ]
    },
    {
     "name": "stdout",
     "output_type": "stream",
     "text": [
      "./ModbusDataset/benign/network-wide-pcap-capture/network-wide/output/network-wide-normal-14_fix_ord.pcap_Flow.csv\n",
      "labels after pre-processing:\n",
      " Label\n",
      "NeedManualLabel    145758\n",
      "Name: count, dtype: int64\n",
      "label count after labelling:\n",
      " Label\n",
      "BENIGN    145758\n",
      "Name: count, dtype: int64\n"
     ]
    },
    {
     "name": "stderr",
     "output_type": "stream",
     "text": [
      "/tmp/ipykernel_34873/2826604722.py:91: FutureWarning: A value is trying to be set on a copy of a DataFrame or Series through chained assignment using an inplace method.\n",
      "The behavior will change in pandas 3.0. This inplace method will never work because the intermediate object on which we are setting values always behaves as a copy.\n",
      "\n",
      "For example, when doing 'df[col].method(value, inplace=True)', try using 'df.method({col: value}, inplace=True)' or df[col] = df[col].method(value) instead, to perform the operation inplace on the original object.\n",
      "\n",
      "\n",
      "  df[\"Label\"].mask(df[\"Label\"] == \"NeedManualLabel\", \"BENIGN\", inplace=True)\n"
     ]
    },
    {
     "name": "stdout",
     "output_type": "stream",
     "text": [
      "./ModbusDataset/benign/network-wide-pcap-capture/network-wide/output/network-wide-normal-23_fix_ord.pcap_Flow.csv\n",
      "labels after pre-processing:\n",
      " Label\n",
      "NeedManualLabel    153495\n",
      "Name: count, dtype: int64\n",
      "label count after labelling:\n",
      " Label\n",
      "BENIGN    153495\n",
      "Name: count, dtype: int64\n"
     ]
    },
    {
     "name": "stderr",
     "output_type": "stream",
     "text": [
      "/tmp/ipykernel_34873/2826604722.py:91: FutureWarning: A value is trying to be set on a copy of a DataFrame or Series through chained assignment using an inplace method.\n",
      "The behavior will change in pandas 3.0. This inplace method will never work because the intermediate object on which we are setting values always behaves as a copy.\n",
      "\n",
      "For example, when doing 'df[col].method(value, inplace=True)', try using 'df.method({col: value}, inplace=True)' or df[col] = df[col].method(value) instead, to perform the operation inplace on the original object.\n",
      "\n",
      "\n",
      "  df[\"Label\"].mask(df[\"Label\"] == \"NeedManualLabel\", \"BENIGN\", inplace=True)\n"
     ]
    },
    {
     "name": "stdout",
     "output_type": "stream",
     "text": [
      "./ModbusDataset/benign/network-wide-pcap-capture/network-wide/output/network-wide-normal-20_fix_ord.pcap_Flow.csv\n",
      "labels after pre-processing:\n",
      " Label\n",
      "NeedManualLabel    153965\n",
      "Name: count, dtype: int64\n",
      "label count after labelling:\n",
      " Label\n",
      "BENIGN    153965\n",
      "Name: count, dtype: int64\n"
     ]
    },
    {
     "name": "stderr",
     "output_type": "stream",
     "text": [
      "/tmp/ipykernel_34873/2826604722.py:91: FutureWarning: A value is trying to be set on a copy of a DataFrame or Series through chained assignment using an inplace method.\n",
      "The behavior will change in pandas 3.0. This inplace method will never work because the intermediate object on which we are setting values always behaves as a copy.\n",
      "\n",
      "For example, when doing 'df[col].method(value, inplace=True)', try using 'df.method({col: value}, inplace=True)' or df[col] = df[col].method(value) instead, to perform the operation inplace on the original object.\n",
      "\n",
      "\n",
      "  df[\"Label\"].mask(df[\"Label\"] == \"NeedManualLabel\", \"BENIGN\", inplace=True)\n"
     ]
    },
    {
     "name": "stdout",
     "output_type": "stream",
     "text": [
      "./ModbusDataset/benign/network-wide-pcap-capture/network-wide/output/network-wide-normal-21_fix_ord.pcap_Flow.csv\n",
      "labels after pre-processing:\n",
      " Label\n",
      "NeedManualLabel    153696\n",
      "Name: count, dtype: int64\n",
      "label count after labelling:\n",
      " Label\n",
      "BENIGN    153696\n",
      "Name: count, dtype: int64\n"
     ]
    },
    {
     "name": "stderr",
     "output_type": "stream",
     "text": [
      "/tmp/ipykernel_34873/2826604722.py:91: FutureWarning: A value is trying to be set on a copy of a DataFrame or Series through chained assignment using an inplace method.\n",
      "The behavior will change in pandas 3.0. This inplace method will never work because the intermediate object on which we are setting values always behaves as a copy.\n",
      "\n",
      "For example, when doing 'df[col].method(value, inplace=True)', try using 'df.method({col: value}, inplace=True)' or df[col] = df[col].method(value) instead, to perform the operation inplace on the original object.\n",
      "\n",
      "\n",
      "  df[\"Label\"].mask(df[\"Label\"] == \"NeedManualLabel\", \"BENIGN\", inplace=True)\n"
     ]
    },
    {
     "name": "stdout",
     "output_type": "stream",
     "text": [
      "./ModbusDataset/benign/network-wide-pcap-capture/network-wide/output/network-wide-normal-17_fix_ord.pcap_Flow.csv\n",
      "labels after pre-processing:\n",
      " Label\n",
      "NeedManualLabel    153183\n",
      "Name: count, dtype: int64\n",
      "label count after labelling:\n",
      " Label\n",
      "BENIGN    153183\n",
      "Name: count, dtype: int64\n"
     ]
    },
    {
     "name": "stderr",
     "output_type": "stream",
     "text": [
      "/tmp/ipykernel_34873/2826604722.py:91: FutureWarning: A value is trying to be set on a copy of a DataFrame or Series through chained assignment using an inplace method.\n",
      "The behavior will change in pandas 3.0. This inplace method will never work because the intermediate object on which we are setting values always behaves as a copy.\n",
      "\n",
      "For example, when doing 'df[col].method(value, inplace=True)', try using 'df.method({col: value}, inplace=True)' or df[col] = df[col].method(value) instead, to perform the operation inplace on the original object.\n",
      "\n",
      "\n",
      "  df[\"Label\"].mask(df[\"Label\"] == \"NeedManualLabel\", \"BENIGN\", inplace=True)\n"
     ]
    },
    {
     "name": "stdout",
     "output_type": "stream",
     "text": [
      "./ModbusDataset/benign/network-wide-pcap-capture/network-wide/output/network-wide-normal-16_fix_ord.pcap_Flow.csv\n",
      "labels after pre-processing:\n",
      " Label\n",
      "NeedManualLabel    154269\n",
      "Name: count, dtype: int64\n",
      "label count after labelling:\n",
      " Label\n",
      "BENIGN    154269\n",
      "Name: count, dtype: int64\n"
     ]
    },
    {
     "name": "stderr",
     "output_type": "stream",
     "text": [
      "/tmp/ipykernel_34873/2826604722.py:91: FutureWarning: A value is trying to be set on a copy of a DataFrame or Series through chained assignment using an inplace method.\n",
      "The behavior will change in pandas 3.0. This inplace method will never work because the intermediate object on which we are setting values always behaves as a copy.\n",
      "\n",
      "For example, when doing 'df[col].method(value, inplace=True)', try using 'df.method({col: value}, inplace=True)' or df[col] = df[col].method(value) instead, to perform the operation inplace on the original object.\n",
      "\n",
      "\n",
      "  df[\"Label\"].mask(df[\"Label\"] == \"NeedManualLabel\", \"BENIGN\", inplace=True)\n"
     ]
    },
    {
     "name": "stdout",
     "output_type": "stream",
     "text": [
      "./ModbusDataset/benign/network-wide-pcap-capture/network-wide/output/network-wide-normal-26_fix_ord.pcap_Flow.csv\n",
      "labels after pre-processing:\n",
      " Label\n",
      "NeedManualLabel    153063\n",
      "Name: count, dtype: int64\n",
      "label count after labelling:\n",
      " Label\n",
      "BENIGN    153063\n",
      "Name: count, dtype: int64\n"
     ]
    },
    {
     "name": "stderr",
     "output_type": "stream",
     "text": [
      "/tmp/ipykernel_34873/2826604722.py:91: FutureWarning: A value is trying to be set on a copy of a DataFrame or Series through chained assignment using an inplace method.\n",
      "The behavior will change in pandas 3.0. This inplace method will never work because the intermediate object on which we are setting values always behaves as a copy.\n",
      "\n",
      "For example, when doing 'df[col].method(value, inplace=True)', try using 'df.method({col: value}, inplace=True)' or df[col] = df[col].method(value) instead, to perform the operation inplace on the original object.\n",
      "\n",
      "\n",
      "  df[\"Label\"].mask(df[\"Label\"] == \"NeedManualLabel\", \"BENIGN\", inplace=True)\n"
     ]
    },
    {
     "name": "stdout",
     "output_type": "stream",
     "text": [
      "./ModbusDataset/benign/network-wide-pcap-capture/network-wide/output/network-wide-normal-28_fix_ord.pcap_Flow.csv\n",
      "labels after pre-processing:\n",
      " Label\n",
      "NeedManualLabel    152816\n",
      "Name: count, dtype: int64\n",
      "label count after labelling:\n",
      " Label\n",
      "BENIGN    152816\n",
      "Name: count, dtype: int64\n"
     ]
    },
    {
     "name": "stderr",
     "output_type": "stream",
     "text": [
      "/tmp/ipykernel_34873/2826604722.py:91: FutureWarning: A value is trying to be set on a copy of a DataFrame or Series through chained assignment using an inplace method.\n",
      "The behavior will change in pandas 3.0. This inplace method will never work because the intermediate object on which we are setting values always behaves as a copy.\n",
      "\n",
      "For example, when doing 'df[col].method(value, inplace=True)', try using 'df.method({col: value}, inplace=True)' or df[col] = df[col].method(value) instead, to perform the operation inplace on the original object.\n",
      "\n",
      "\n",
      "  df[\"Label\"].mask(df[\"Label\"] == \"NeedManualLabel\", \"BENIGN\", inplace=True)\n"
     ]
    },
    {
     "name": "stdout",
     "output_type": "stream",
     "text": [
      "./ModbusDataset/benign/network-wide-pcap-capture/network-wide/output/network-wide-normal-27_fix_ord.pcap_Flow.csv\n",
      "labels after pre-processing:\n",
      " Label\n",
      "NeedManualLabel    153331\n",
      "Name: count, dtype: int64\n",
      "label count after labelling:\n",
      " Label\n",
      "BENIGN    153331\n",
      "Name: count, dtype: int64\n"
     ]
    },
    {
     "name": "stderr",
     "output_type": "stream",
     "text": [
      "/tmp/ipykernel_34873/2826604722.py:91: FutureWarning: A value is trying to be set on a copy of a DataFrame or Series through chained assignment using an inplace method.\n",
      "The behavior will change in pandas 3.0. This inplace method will never work because the intermediate object on which we are setting values always behaves as a copy.\n",
      "\n",
      "For example, when doing 'df[col].method(value, inplace=True)', try using 'df.method({col: value}, inplace=True)' or df[col] = df[col].method(value) instead, to perform the operation inplace on the original object.\n",
      "\n",
      "\n",
      "  df[\"Label\"].mask(df[\"Label\"] == \"NeedManualLabel\", \"BENIGN\", inplace=True)\n"
     ]
    },
    {
     "name": "stdout",
     "output_type": "stream",
     "text": [
      "./ModbusDataset/benign/network-wide-pcap-capture/network-wide/output/network-wide-normal-29_fix_ord.pcap_Flow.csv\n",
      "labels after pre-processing:\n",
      " Label\n",
      "NeedManualLabel    152371\n",
      "Name: count, dtype: int64\n",
      "label count after labelling:\n",
      " Label\n",
      "BENIGN    152371\n",
      "Name: count, dtype: int64\n"
     ]
    },
    {
     "name": "stderr",
     "output_type": "stream",
     "text": [
      "/tmp/ipykernel_34873/2826604722.py:91: FutureWarning: A value is trying to be set on a copy of a DataFrame or Series through chained assignment using an inplace method.\n",
      "The behavior will change in pandas 3.0. This inplace method will never work because the intermediate object on which we are setting values always behaves as a copy.\n",
      "\n",
      "For example, when doing 'df[col].method(value, inplace=True)', try using 'df.method({col: value}, inplace=True)' or df[col] = df[col].method(value) instead, to perform the operation inplace on the original object.\n",
      "\n",
      "\n",
      "  df[\"Label\"].mask(df[\"Label\"] == \"NeedManualLabel\", \"BENIGN\", inplace=True)\n"
     ]
    },
    {
     "name": "stdout",
     "output_type": "stream",
     "text": [
      "./ModbusDataset/benign/ied4c/ied4c-network-capture/output/veth8bc3408-normal-10_fix_ord.pcap_Flow.csv\n",
      "labels after pre-processing:\n",
      " Label\n",
      "NeedManualLabel    167481\n",
      "Name: count, dtype: int64\n",
      "label count after labelling:\n",
      " Label\n",
      "BENIGN    167481\n",
      "Name: count, dtype: int64\n"
     ]
    },
    {
     "name": "stderr",
     "output_type": "stream",
     "text": [
      "/tmp/ipykernel_34873/2826604722.py:91: FutureWarning: A value is trying to be set on a copy of a DataFrame or Series through chained assignment using an inplace method.\n",
      "The behavior will change in pandas 3.0. This inplace method will never work because the intermediate object on which we are setting values always behaves as a copy.\n",
      "\n",
      "For example, when doing 'df[col].method(value, inplace=True)', try using 'df.method({col: value}, inplace=True)' or df[col] = df[col].method(value) instead, to perform the operation inplace on the original object.\n",
      "\n",
      "\n",
      "  df[\"Label\"].mask(df[\"Label\"] == \"NeedManualLabel\", \"BENIGN\", inplace=True)\n"
     ]
    },
    {
     "name": "stdout",
     "output_type": "stream",
     "text": [
      "./ModbusDataset/benign/ied4c/ied4c-network-capture/output/veth8bc3408-normal-5_fix_ord.pcap_Flow.csv\n",
      "labels after pre-processing:\n",
      " Label\n",
      "NeedManualLabel    166975\n",
      "Name: count, dtype: int64\n",
      "label count after labelling:\n",
      " Label\n",
      "BENIGN    166975\n",
      "Name: count, dtype: int64\n"
     ]
    },
    {
     "name": "stderr",
     "output_type": "stream",
     "text": [
      "/tmp/ipykernel_34873/2826604722.py:91: FutureWarning: A value is trying to be set on a copy of a DataFrame or Series through chained assignment using an inplace method.\n",
      "The behavior will change in pandas 3.0. This inplace method will never work because the intermediate object on which we are setting values always behaves as a copy.\n",
      "\n",
      "For example, when doing 'df[col].method(value, inplace=True)', try using 'df.method({col: value}, inplace=True)' or df[col] = df[col].method(value) instead, to perform the operation inplace on the original object.\n",
      "\n",
      "\n",
      "  df[\"Label\"].mask(df[\"Label\"] == \"NeedManualLabel\", \"BENIGN\", inplace=True)\n"
     ]
    },
    {
     "name": "stdout",
     "output_type": "stream",
     "text": [
      "./ModbusDataset/benign/ied4c/ied4c-network-capture/output/veth8bc3408-normal-6_fix_ord.pcap_Flow.csv\n",
      "labels after pre-processing:\n",
      " Label\n",
      "NeedManualLabel    169492\n",
      "Name: count, dtype: int64\n",
      "label count after labelling:\n",
      " Label\n",
      "BENIGN    169492\n",
      "Name: count, dtype: int64\n"
     ]
    },
    {
     "name": "stderr",
     "output_type": "stream",
     "text": [
      "/tmp/ipykernel_34873/2826604722.py:91: FutureWarning: A value is trying to be set on a copy of a DataFrame or Series through chained assignment using an inplace method.\n",
      "The behavior will change in pandas 3.0. This inplace method will never work because the intermediate object on which we are setting values always behaves as a copy.\n",
      "\n",
      "For example, when doing 'df[col].method(value, inplace=True)', try using 'df.method({col: value}, inplace=True)' or df[col] = df[col].method(value) instead, to perform the operation inplace on the original object.\n",
      "\n",
      "\n",
      "  df[\"Label\"].mask(df[\"Label\"] == \"NeedManualLabel\", \"BENIGN\", inplace=True)\n"
     ]
    },
    {
     "name": "stdout",
     "output_type": "stream",
     "text": [
      "./ModbusDataset/benign/ied4c/ied4c-network-capture/output/veth8bc3408-normal-8_fix_ord.pcap_Flow.csv\n",
      "labels after pre-processing:\n",
      " Label\n",
      "NeedManualLabel    169872\n",
      "Name: count, dtype: int64\n",
      "label count after labelling:\n",
      " Label\n",
      "BENIGN    169872\n",
      "Name: count, dtype: int64\n"
     ]
    },
    {
     "name": "stderr",
     "output_type": "stream",
     "text": [
      "/tmp/ipykernel_34873/2826604722.py:91: FutureWarning: A value is trying to be set on a copy of a DataFrame or Series through chained assignment using an inplace method.\n",
      "The behavior will change in pandas 3.0. This inplace method will never work because the intermediate object on which we are setting values always behaves as a copy.\n",
      "\n",
      "For example, when doing 'df[col].method(value, inplace=True)', try using 'df.method({col: value}, inplace=True)' or df[col] = df[col].method(value) instead, to perform the operation inplace on the original object.\n",
      "\n",
      "\n",
      "  df[\"Label\"].mask(df[\"Label\"] == \"NeedManualLabel\", \"BENIGN\", inplace=True)\n"
     ]
    },
    {
     "name": "stdout",
     "output_type": "stream",
     "text": [
      "./ModbusDataset/benign/ied4c/ied4c-network-capture/output/veth8bc3408-normal-11_fix_ord.pcap_Flow.csv\n",
      "labels after pre-processing:\n",
      " Label\n",
      "NeedManualLabel    36343\n",
      "Name: count, dtype: int64\n",
      "label count after labelling:\n",
      " Label\n",
      "BENIGN    36343\n",
      "Name: count, dtype: int64\n"
     ]
    },
    {
     "name": "stderr",
     "output_type": "stream",
     "text": [
      "/tmp/ipykernel_34873/2826604722.py:91: FutureWarning: A value is trying to be set on a copy of a DataFrame or Series through chained assignment using an inplace method.\n",
      "The behavior will change in pandas 3.0. This inplace method will never work because the intermediate object on which we are setting values always behaves as a copy.\n",
      "\n",
      "For example, when doing 'df[col].method(value, inplace=True)', try using 'df.method({col: value}, inplace=True)' or df[col] = df[col].method(value) instead, to perform the operation inplace on the original object.\n",
      "\n",
      "\n",
      "  df[\"Label\"].mask(df[\"Label\"] == \"NeedManualLabel\", \"BENIGN\", inplace=True)\n"
     ]
    },
    {
     "name": "stdout",
     "output_type": "stream",
     "text": [
      "./ModbusDataset/benign/ied4c/ied4c-network-capture/output/veth8bc3408-normal-4_fix_ord.pcap_Flow.csv\n",
      "labels after pre-processing:\n",
      " Label\n",
      "NeedManualLabel    165962\n",
      "Name: count, dtype: int64\n",
      "label count after labelling:\n",
      " Label\n",
      "BENIGN    165962\n",
      "Name: count, dtype: int64\n"
     ]
    },
    {
     "name": "stderr",
     "output_type": "stream",
     "text": [
      "/tmp/ipykernel_34873/2826604722.py:91: FutureWarning: A value is trying to be set on a copy of a DataFrame or Series through chained assignment using an inplace method.\n",
      "The behavior will change in pandas 3.0. This inplace method will never work because the intermediate object on which we are setting values always behaves as a copy.\n",
      "\n",
      "For example, when doing 'df[col].method(value, inplace=True)', try using 'df.method({col: value}, inplace=True)' or df[col] = df[col].method(value) instead, to perform the operation inplace on the original object.\n",
      "\n",
      "\n",
      "  df[\"Label\"].mask(df[\"Label\"] == \"NeedManualLabel\", \"BENIGN\", inplace=True)\n"
     ]
    },
    {
     "name": "stdout",
     "output_type": "stream",
     "text": [
      "./ModbusDataset/benign/ied4c/ied4c-network-capture/output/veth8bc3408-normal-7_fix_ord.pcap_Flow.csv\n",
      "labels after pre-processing:\n",
      " Label\n",
      "NeedManualLabel    170813\n",
      "Name: count, dtype: int64\n",
      "label count after labelling:\n",
      " Label\n",
      "BENIGN    170813\n",
      "Name: count, dtype: int64\n"
     ]
    },
    {
     "name": "stderr",
     "output_type": "stream",
     "text": [
      "/tmp/ipykernel_34873/2826604722.py:91: FutureWarning: A value is trying to be set on a copy of a DataFrame or Series through chained assignment using an inplace method.\n",
      "The behavior will change in pandas 3.0. This inplace method will never work because the intermediate object on which we are setting values always behaves as a copy.\n",
      "\n",
      "For example, when doing 'df[col].method(value, inplace=True)', try using 'df.method({col: value}, inplace=True)' or df[col] = df[col].method(value) instead, to perform the operation inplace on the original object.\n",
      "\n",
      "\n",
      "  df[\"Label\"].mask(df[\"Label\"] == \"NeedManualLabel\", \"BENIGN\", inplace=True)\n"
     ]
    },
    {
     "name": "stdout",
     "output_type": "stream",
     "text": [
      "./ModbusDataset/benign/ied4c/ied4c-network-capture/output/veth8bc3408-normal-9_fix_ord.pcap_Flow.csv\n",
      "labels after pre-processing:\n",
      " Label\n",
      "NeedManualLabel    169829\n",
      "Name: count, dtype: int64\n",
      "label count after labelling:\n",
      " Label\n",
      "BENIGN    169829\n",
      "Name: count, dtype: int64\n"
     ]
    },
    {
     "name": "stderr",
     "output_type": "stream",
     "text": [
      "/tmp/ipykernel_34873/2826604722.py:91: FutureWarning: A value is trying to be set on a copy of a DataFrame or Series through chained assignment using an inplace method.\n",
      "The behavior will change in pandas 3.0. This inplace method will never work because the intermediate object on which we are setting values always behaves as a copy.\n",
      "\n",
      "For example, when doing 'df[col].method(value, inplace=True)', try using 'df.method({col: value}, inplace=True)' or df[col] = df[col].method(value) instead, to perform the operation inplace on the original object.\n",
      "\n",
      "\n",
      "  df[\"Label\"].mask(df[\"Label\"] == \"NeedManualLabel\", \"BENIGN\", inplace=True)\n"
     ]
    },
    {
     "name": "stdout",
     "output_type": "stream",
     "text": [
      "./ModbusDataset/benign/ied1b/ied1b-network-capture/output/vethd9e14c0-normal-4_fix_ord.pcap_Flow.csv\n",
      "labels after pre-processing:\n",
      " Label\n",
      "NeedManualLabel    116562\n",
      "Name: count, dtype: int64\n",
      "label count after labelling:\n",
      " Label\n",
      "BENIGN    116562\n",
      "Name: count, dtype: int64\n"
     ]
    },
    {
     "name": "stderr",
     "output_type": "stream",
     "text": [
      "/tmp/ipykernel_34873/2826604722.py:91: FutureWarning: A value is trying to be set on a copy of a DataFrame or Series through chained assignment using an inplace method.\n",
      "The behavior will change in pandas 3.0. This inplace method will never work because the intermediate object on which we are setting values always behaves as a copy.\n",
      "\n",
      "For example, when doing 'df[col].method(value, inplace=True)', try using 'df.method({col: value}, inplace=True)' or df[col] = df[col].method(value) instead, to perform the operation inplace on the original object.\n",
      "\n",
      "\n",
      "  df[\"Label\"].mask(df[\"Label\"] == \"NeedManualLabel\", \"BENIGN\", inplace=True)\n"
     ]
    },
    {
     "name": "stdout",
     "output_type": "stream",
     "text": [
      "./ModbusDataset/benign/ied1b/ied1b-network-capture/output/vethd9e14c0-normal-9_fix_ord.pcap_Flow.csv\n",
      "labels after pre-processing:\n",
      " Label\n",
      "NeedManualLabel    116551\n",
      "Name: count, dtype: int64\n",
      "label count after labelling:\n",
      " Label\n",
      "BENIGN    116551\n",
      "Name: count, dtype: int64\n"
     ]
    },
    {
     "name": "stderr",
     "output_type": "stream",
     "text": [
      "/tmp/ipykernel_34873/2826604722.py:91: FutureWarning: A value is trying to be set on a copy of a DataFrame or Series through chained assignment using an inplace method.\n",
      "The behavior will change in pandas 3.0. This inplace method will never work because the intermediate object on which we are setting values always behaves as a copy.\n",
      "\n",
      "For example, when doing 'df[col].method(value, inplace=True)', try using 'df.method({col: value}, inplace=True)' or df[col] = df[col].method(value) instead, to perform the operation inplace on the original object.\n",
      "\n",
      "\n",
      "  df[\"Label\"].mask(df[\"Label\"] == \"NeedManualLabel\", \"BENIGN\", inplace=True)\n"
     ]
    },
    {
     "name": "stdout",
     "output_type": "stream",
     "text": [
      "./ModbusDataset/benign/ied1b/ied1b-network-capture/output/vethd9e14c0-normal-5_fix_ord.pcap_Flow.csv\n",
      "labels after pre-processing:\n",
      " Label\n",
      "NeedManualLabel    116552\n",
      "Name: count, dtype: int64\n",
      "label count after labelling:\n",
      " Label\n",
      "BENIGN    116552\n",
      "Name: count, dtype: int64\n"
     ]
    },
    {
     "name": "stderr",
     "output_type": "stream",
     "text": [
      "/tmp/ipykernel_34873/2826604722.py:91: FutureWarning: A value is trying to be set on a copy of a DataFrame or Series through chained assignment using an inplace method.\n",
      "The behavior will change in pandas 3.0. This inplace method will never work because the intermediate object on which we are setting values always behaves as a copy.\n",
      "\n",
      "For example, when doing 'df[col].method(value, inplace=True)', try using 'df.method({col: value}, inplace=True)' or df[col] = df[col].method(value) instead, to perform the operation inplace on the original object.\n",
      "\n",
      "\n",
      "  df[\"Label\"].mask(df[\"Label\"] == \"NeedManualLabel\", \"BENIGN\", inplace=True)\n"
     ]
    },
    {
     "name": "stdout",
     "output_type": "stream",
     "text": [
      "./ModbusDataset/benign/ied1b/ied1b-network-capture/output/vethd9e14c0-normal-10_fix_ord.pcap_Flow.csv\n",
      "labels after pre-processing:\n",
      " Label\n",
      "NeedManualLabel    3454\n",
      "Name: count, dtype: int64\n",
      "label count after labelling:\n",
      " Label\n",
      "BENIGN    3454\n",
      "Name: count, dtype: int64\n"
     ]
    },
    {
     "name": "stderr",
     "output_type": "stream",
     "text": [
      "/tmp/ipykernel_34873/2826604722.py:91: FutureWarning: A value is trying to be set on a copy of a DataFrame or Series through chained assignment using an inplace method.\n",
      "The behavior will change in pandas 3.0. This inplace method will never work because the intermediate object on which we are setting values always behaves as a copy.\n",
      "\n",
      "For example, when doing 'df[col].method(value, inplace=True)', try using 'df.method({col: value}, inplace=True)' or df[col] = df[col].method(value) instead, to perform the operation inplace on the original object.\n",
      "\n",
      "\n",
      "  df[\"Label\"].mask(df[\"Label\"] == \"NeedManualLabel\", \"BENIGN\", inplace=True)\n"
     ]
    },
    {
     "name": "stdout",
     "output_type": "stream",
     "text": [
      "./ModbusDataset/benign/ied1b/ied1b-network-capture/output/vethd9e14c0-normal-7_fix_ord.pcap_Flow.csv\n",
      "labels after pre-processing:\n",
      " Label\n",
      "NeedManualLabel    116552\n",
      "Name: count, dtype: int64\n",
      "label count after labelling:\n",
      " Label\n",
      "BENIGN    116552\n",
      "Name: count, dtype: int64\n"
     ]
    },
    {
     "name": "stderr",
     "output_type": "stream",
     "text": [
      "/tmp/ipykernel_34873/2826604722.py:91: FutureWarning: A value is trying to be set on a copy of a DataFrame or Series through chained assignment using an inplace method.\n",
      "The behavior will change in pandas 3.0. This inplace method will never work because the intermediate object on which we are setting values always behaves as a copy.\n",
      "\n",
      "For example, when doing 'df[col].method(value, inplace=True)', try using 'df.method({col: value}, inplace=True)' or df[col] = df[col].method(value) instead, to perform the operation inplace on the original object.\n",
      "\n",
      "\n",
      "  df[\"Label\"].mask(df[\"Label\"] == \"NeedManualLabel\", \"BENIGN\", inplace=True)\n"
     ]
    },
    {
     "name": "stdout",
     "output_type": "stream",
     "text": [
      "./ModbusDataset/benign/ied1b/ied1b-network-capture/output/vethd9e14c0-normal-6_fix_ord.pcap_Flow.csv\n",
      "labels after pre-processing:\n",
      " Label\n",
      "NeedManualLabel    116550\n",
      "Name: count, dtype: int64\n",
      "label count after labelling:\n",
      " Label\n",
      "BENIGN    116550\n",
      "Name: count, dtype: int64\n"
     ]
    },
    {
     "name": "stderr",
     "output_type": "stream",
     "text": [
      "/tmp/ipykernel_34873/2826604722.py:91: FutureWarning: A value is trying to be set on a copy of a DataFrame or Series through chained assignment using an inplace method.\n",
      "The behavior will change in pandas 3.0. This inplace method will never work because the intermediate object on which we are setting values always behaves as a copy.\n",
      "\n",
      "For example, when doing 'df[col].method(value, inplace=True)', try using 'df.method({col: value}, inplace=True)' or df[col] = df[col].method(value) instead, to perform the operation inplace on the original object.\n",
      "\n",
      "\n",
      "  df[\"Label\"].mask(df[\"Label\"] == \"NeedManualLabel\", \"BENIGN\", inplace=True)\n"
     ]
    },
    {
     "name": "stdout",
     "output_type": "stream",
     "text": [
      "./ModbusDataset/benign/ied1b/ied1b-network-capture/output/vethd9e14c0-normal-8_fix_ord.pcap_Flow.csv\n",
      "labels after pre-processing:\n",
      " Label\n",
      "NeedManualLabel    116550\n",
      "Name: count, dtype: int64\n",
      "label count after labelling:\n",
      " Label\n",
      "BENIGN    116550\n",
      "Name: count, dtype: int64\n"
     ]
    },
    {
     "name": "stderr",
     "output_type": "stream",
     "text": [
      "/tmp/ipykernel_34873/2826604722.py:91: FutureWarning: A value is trying to be set on a copy of a DataFrame or Series through chained assignment using an inplace method.\n",
      "The behavior will change in pandas 3.0. This inplace method will never work because the intermediate object on which we are setting values always behaves as a copy.\n",
      "\n",
      "For example, when doing 'df[col].method(value, inplace=True)', try using 'df.method({col: value}, inplace=True)' or df[col] = df[col].method(value) instead, to perform the operation inplace on the original object.\n",
      "\n",
      "\n",
      "  df[\"Label\"].mask(df[\"Label\"] == \"NeedManualLabel\", \"BENIGN\", inplace=True)\n"
     ]
    },
    {
     "name": "stdout",
     "output_type": "stream",
     "text": [
      "./ModbusDataset/benign/scada-hmi/scada-hmi-network-capture/output/veth5bbeaa2-normal-27_fix_ord.pcap_Flow.csv\n",
      "labels after pre-processing:\n",
      " Label\n",
      "NeedManualLabel    157181\n",
      "Name: count, dtype: int64\n",
      "label count after labelling:\n",
      " Label\n",
      "BENIGN    157181\n",
      "Name: count, dtype: int64\n"
     ]
    },
    {
     "name": "stderr",
     "output_type": "stream",
     "text": [
      "/tmp/ipykernel_34873/2826604722.py:91: FutureWarning: A value is trying to be set on a copy of a DataFrame or Series through chained assignment using an inplace method.\n",
      "The behavior will change in pandas 3.0. This inplace method will never work because the intermediate object on which we are setting values always behaves as a copy.\n",
      "\n",
      "For example, when doing 'df[col].method(value, inplace=True)', try using 'df.method({col: value}, inplace=True)' or df[col] = df[col].method(value) instead, to perform the operation inplace on the original object.\n",
      "\n",
      "\n",
      "  df[\"Label\"].mask(df[\"Label\"] == \"NeedManualLabel\", \"BENIGN\", inplace=True)\n"
     ]
    },
    {
     "name": "stdout",
     "output_type": "stream",
     "text": [
      "./ModbusDataset/benign/scada-hmi/scada-hmi-network-capture/output/veth5bbeaa2-normal-23_fix_ord.pcap_Flow.csv\n",
      "labels after pre-processing:\n",
      " Label\n",
      "NeedManualLabel    158196\n",
      "Name: count, dtype: int64\n",
      "label count after labelling:\n",
      " Label\n",
      "BENIGN    158196\n",
      "Name: count, dtype: int64\n"
     ]
    },
    {
     "name": "stderr",
     "output_type": "stream",
     "text": [
      "/tmp/ipykernel_34873/2826604722.py:91: FutureWarning: A value is trying to be set on a copy of a DataFrame or Series through chained assignment using an inplace method.\n",
      "The behavior will change in pandas 3.0. This inplace method will never work because the intermediate object on which we are setting values always behaves as a copy.\n",
      "\n",
      "For example, when doing 'df[col].method(value, inplace=True)', try using 'df.method({col: value}, inplace=True)' or df[col] = df[col].method(value) instead, to perform the operation inplace on the original object.\n",
      "\n",
      "\n",
      "  df[\"Label\"].mask(df[\"Label\"] == \"NeedManualLabel\", \"BENIGN\", inplace=True)\n"
     ]
    },
    {
     "name": "stdout",
     "output_type": "stream",
     "text": [
      "./ModbusDataset/benign/scada-hmi/scada-hmi-network-capture/output/veth5bbeaa2-normal-14_fix_ord.pcap_Flow.csv\n",
      "labels after pre-processing:\n",
      " Label\n",
      "NeedManualLabel    150252\n",
      "Name: count, dtype: int64\n",
      "label count after labelling:\n",
      " Label\n",
      "BENIGN    150252\n",
      "Name: count, dtype: int64\n"
     ]
    },
    {
     "name": "stderr",
     "output_type": "stream",
     "text": [
      "/tmp/ipykernel_34873/2826604722.py:91: FutureWarning: A value is trying to be set on a copy of a DataFrame or Series through chained assignment using an inplace method.\n",
      "The behavior will change in pandas 3.0. This inplace method will never work because the intermediate object on which we are setting values always behaves as a copy.\n",
      "\n",
      "For example, when doing 'df[col].method(value, inplace=True)', try using 'df.method({col: value}, inplace=True)' or df[col] = df[col].method(value) instead, to perform the operation inplace on the original object.\n",
      "\n",
      "\n",
      "  df[\"Label\"].mask(df[\"Label\"] == \"NeedManualLabel\", \"BENIGN\", inplace=True)\n"
     ]
    },
    {
     "name": "stdout",
     "output_type": "stream",
     "text": [
      "./ModbusDataset/benign/scada-hmi/scada-hmi-network-capture/output/veth5bbeaa2-normal-16_fix_ord.pcap_Flow.csv\n",
      "labels after pre-processing:\n",
      " Label\n",
      "NeedManualLabel    157615\n",
      "Name: count, dtype: int64\n",
      "label count after labelling:\n",
      " Label\n",
      "BENIGN    157615\n",
      "Name: count, dtype: int64\n"
     ]
    },
    {
     "name": "stderr",
     "output_type": "stream",
     "text": [
      "/tmp/ipykernel_34873/2826604722.py:91: FutureWarning: A value is trying to be set on a copy of a DataFrame or Series through chained assignment using an inplace method.\n",
      "The behavior will change in pandas 3.0. This inplace method will never work because the intermediate object on which we are setting values always behaves as a copy.\n",
      "\n",
      "For example, when doing 'df[col].method(value, inplace=True)', try using 'df.method({col: value}, inplace=True)' or df[col] = df[col].method(value) instead, to perform the operation inplace on the original object.\n",
      "\n",
      "\n",
      "  df[\"Label\"].mask(df[\"Label\"] == \"NeedManualLabel\", \"BENIGN\", inplace=True)\n"
     ]
    },
    {
     "name": "stdout",
     "output_type": "stream",
     "text": [
      "./ModbusDataset/benign/scada-hmi/scada-hmi-network-capture/output/veth5bbeaa2-normal-18_fix_ord.pcap_Flow.csv\n",
      "labels after pre-processing:\n",
      " Label\n",
      "NeedManualLabel    156148\n",
      "Name: count, dtype: int64\n",
      "label count after labelling:\n",
      " Label\n",
      "BENIGN    156148\n",
      "Name: count, dtype: int64\n"
     ]
    },
    {
     "name": "stderr",
     "output_type": "stream",
     "text": [
      "/tmp/ipykernel_34873/2826604722.py:91: FutureWarning: A value is trying to be set on a copy of a DataFrame or Series through chained assignment using an inplace method.\n",
      "The behavior will change in pandas 3.0. This inplace method will never work because the intermediate object on which we are setting values always behaves as a copy.\n",
      "\n",
      "For example, when doing 'df[col].method(value, inplace=True)', try using 'df.method({col: value}, inplace=True)' or df[col] = df[col].method(value) instead, to perform the operation inplace on the original object.\n",
      "\n",
      "\n",
      "  df[\"Label\"].mask(df[\"Label\"] == \"NeedManualLabel\", \"BENIGN\", inplace=True)\n"
     ]
    },
    {
     "name": "stdout",
     "output_type": "stream",
     "text": [
      "./ModbusDataset/benign/scada-hmi/scada-hmi-network-capture/output/veth5bbeaa2-normal-15_fix_ord.pcap_Flow.csv\n",
      "labels after pre-processing:\n",
      " Label\n",
      "NeedManualLabel    157794\n",
      "Name: count, dtype: int64\n",
      "label count after labelling:\n",
      " Label\n",
      "BENIGN    157794\n",
      "Name: count, dtype: int64\n"
     ]
    },
    {
     "name": "stderr",
     "output_type": "stream",
     "text": [
      "/tmp/ipykernel_34873/2826604722.py:91: FutureWarning: A value is trying to be set on a copy of a DataFrame or Series through chained assignment using an inplace method.\n",
      "The behavior will change in pandas 3.0. This inplace method will never work because the intermediate object on which we are setting values always behaves as a copy.\n",
      "\n",
      "For example, when doing 'df[col].method(value, inplace=True)', try using 'df.method({col: value}, inplace=True)' or df[col] = df[col].method(value) instead, to perform the operation inplace on the original object.\n",
      "\n",
      "\n",
      "  df[\"Label\"].mask(df[\"Label\"] == \"NeedManualLabel\", \"BENIGN\", inplace=True)\n"
     ]
    },
    {
     "name": "stdout",
     "output_type": "stream",
     "text": [
      "./ModbusDataset/benign/scada-hmi/scada-hmi-network-capture/output/veth5bbeaa2-normal-25_fix_ord.pcap_Flow.csv\n",
      "labels after pre-processing:\n",
      " Label\n",
      "NeedManualLabel    157414\n",
      "Name: count, dtype: int64\n",
      "label count after labelling:\n",
      " Label\n",
      "BENIGN    157414\n",
      "Name: count, dtype: int64\n"
     ]
    },
    {
     "name": "stderr",
     "output_type": "stream",
     "text": [
      "/tmp/ipykernel_34873/2826604722.py:91: FutureWarning: A value is trying to be set on a copy of a DataFrame or Series through chained assignment using an inplace method.\n",
      "The behavior will change in pandas 3.0. This inplace method will never work because the intermediate object on which we are setting values always behaves as a copy.\n",
      "\n",
      "For example, when doing 'df[col].method(value, inplace=True)', try using 'df.method({col: value}, inplace=True)' or df[col] = df[col].method(value) instead, to perform the operation inplace on the original object.\n",
      "\n",
      "\n",
      "  df[\"Label\"].mask(df[\"Label\"] == \"NeedManualLabel\", \"BENIGN\", inplace=True)\n"
     ]
    },
    {
     "name": "stdout",
     "output_type": "stream",
     "text": [
      "./ModbusDataset/benign/scada-hmi/scada-hmi-network-capture/output/veth5bbeaa2-normal-28_fix_ord.pcap_Flow.csv\n",
      "labels after pre-processing:\n",
      " Label\n",
      "NeedManualLabel    156226\n",
      "Name: count, dtype: int64\n",
      "label count after labelling:\n",
      " Label\n",
      "BENIGN    156226\n",
      "Name: count, dtype: int64\n"
     ]
    },
    {
     "name": "stderr",
     "output_type": "stream",
     "text": [
      "/tmp/ipykernel_34873/2826604722.py:91: FutureWarning: A value is trying to be set on a copy of a DataFrame or Series through chained assignment using an inplace method.\n",
      "The behavior will change in pandas 3.0. This inplace method will never work because the intermediate object on which we are setting values always behaves as a copy.\n",
      "\n",
      "For example, when doing 'df[col].method(value, inplace=True)', try using 'df.method({col: value}, inplace=True)' or df[col] = df[col].method(value) instead, to perform the operation inplace on the original object.\n",
      "\n",
      "\n",
      "  df[\"Label\"].mask(df[\"Label\"] == \"NeedManualLabel\", \"BENIGN\", inplace=True)\n"
     ]
    },
    {
     "name": "stdout",
     "output_type": "stream",
     "text": [
      "./ModbusDataset/benign/scada-hmi/scada-hmi-network-capture/output/veth5bbeaa2-normal-29_fix_ord.pcap_Flow.csv\n",
      "labels after pre-processing:\n",
      " Label\n",
      "NeedManualLabel    157384\n",
      "Name: count, dtype: int64\n",
      "label count after labelling:\n",
      " Label\n",
      "BENIGN    157384\n",
      "Name: count, dtype: int64\n"
     ]
    },
    {
     "name": "stderr",
     "output_type": "stream",
     "text": [
      "/tmp/ipykernel_34873/2826604722.py:91: FutureWarning: A value is trying to be set on a copy of a DataFrame or Series through chained assignment using an inplace method.\n",
      "The behavior will change in pandas 3.0. This inplace method will never work because the intermediate object on which we are setting values always behaves as a copy.\n",
      "\n",
      "For example, when doing 'df[col].method(value, inplace=True)', try using 'df.method({col: value}, inplace=True)' or df[col] = df[col].method(value) instead, to perform the operation inplace on the original object.\n",
      "\n",
      "\n",
      "  df[\"Label\"].mask(df[\"Label\"] == \"NeedManualLabel\", \"BENIGN\", inplace=True)\n"
     ]
    },
    {
     "name": "stdout",
     "output_type": "stream",
     "text": [
      "./ModbusDataset/benign/scada-hmi/scada-hmi-network-capture/output/veth5bbeaa2-normal-22_fix_ord.pcap_Flow.csv\n",
      "labels after pre-processing:\n",
      " Label\n",
      "NeedManualLabel    158211\n",
      "Name: count, dtype: int64\n",
      "label count after labelling:\n",
      " Label\n",
      "BENIGN    158211\n",
      "Name: count, dtype: int64\n"
     ]
    },
    {
     "name": "stderr",
     "output_type": "stream",
     "text": [
      "/tmp/ipykernel_34873/2826604722.py:91: FutureWarning: A value is trying to be set on a copy of a DataFrame or Series through chained assignment using an inplace method.\n",
      "The behavior will change in pandas 3.0. This inplace method will never work because the intermediate object on which we are setting values always behaves as a copy.\n",
      "\n",
      "For example, when doing 'df[col].method(value, inplace=True)', try using 'df.method({col: value}, inplace=True)' or df[col] = df[col].method(value) instead, to perform the operation inplace on the original object.\n",
      "\n",
      "\n",
      "  df[\"Label\"].mask(df[\"Label\"] == \"NeedManualLabel\", \"BENIGN\", inplace=True)\n"
     ]
    },
    {
     "name": "stdout",
     "output_type": "stream",
     "text": [
      "./ModbusDataset/benign/scada-hmi/scada-hmi-network-capture/output/veth5bbeaa2-normal-17_fix_ord.pcap_Flow.csv\n",
      "labels after pre-processing:\n",
      " Label\n",
      "NeedManualLabel    157030\n",
      "Name: count, dtype: int64\n",
      "label count after labelling:\n",
      " Label\n",
      "BENIGN    157030\n",
      "Name: count, dtype: int64\n"
     ]
    },
    {
     "name": "stderr",
     "output_type": "stream",
     "text": [
      "/tmp/ipykernel_34873/2826604722.py:91: FutureWarning: A value is trying to be set on a copy of a DataFrame or Series through chained assignment using an inplace method.\n",
      "The behavior will change in pandas 3.0. This inplace method will never work because the intermediate object on which we are setting values always behaves as a copy.\n",
      "\n",
      "For example, when doing 'df[col].method(value, inplace=True)', try using 'df.method({col: value}, inplace=True)' or df[col] = df[col].method(value) instead, to perform the operation inplace on the original object.\n",
      "\n",
      "\n",
      "  df[\"Label\"].mask(df[\"Label\"] == \"NeedManualLabel\", \"BENIGN\", inplace=True)\n"
     ]
    },
    {
     "name": "stdout",
     "output_type": "stream",
     "text": [
      "./ModbusDataset/benign/scada-hmi/scada-hmi-network-capture/output/veth5bbeaa2-normal-19_fix_ord.pcap_Flow.csv\n",
      "labels after pre-processing:\n",
      " Label\n",
      "NeedManualLabel    157109\n",
      "Name: count, dtype: int64\n",
      "label count after labelling:\n",
      " Label\n",
      "BENIGN    157109\n",
      "Name: count, dtype: int64\n"
     ]
    },
    {
     "name": "stderr",
     "output_type": "stream",
     "text": [
      "/tmp/ipykernel_34873/2826604722.py:91: FutureWarning: A value is trying to be set on a copy of a DataFrame or Series through chained assignment using an inplace method.\n",
      "The behavior will change in pandas 3.0. This inplace method will never work because the intermediate object on which we are setting values always behaves as a copy.\n",
      "\n",
      "For example, when doing 'df[col].method(value, inplace=True)', try using 'df.method({col: value}, inplace=True)' or df[col] = df[col].method(value) instead, to perform the operation inplace on the original object.\n",
      "\n",
      "\n",
      "  df[\"Label\"].mask(df[\"Label\"] == \"NeedManualLabel\", \"BENIGN\", inplace=True)\n"
     ]
    },
    {
     "name": "stdout",
     "output_type": "stream",
     "text": [
      "./ModbusDataset/benign/scada-hmi/scada-hmi-network-capture/output/veth5bbeaa2-normal-13_fix_ord.pcap_Flow.csv\n",
      "labels after pre-processing:\n",
      " Label\n",
      "NeedManualLabel    154597\n",
      "Name: count, dtype: int64\n",
      "label count after labelling:\n",
      " Label\n",
      "BENIGN    154597\n",
      "Name: count, dtype: int64\n"
     ]
    },
    {
     "name": "stderr",
     "output_type": "stream",
     "text": [
      "/tmp/ipykernel_34873/2826604722.py:91: FutureWarning: A value is trying to be set on a copy of a DataFrame or Series through chained assignment using an inplace method.\n",
      "The behavior will change in pandas 3.0. This inplace method will never work because the intermediate object on which we are setting values always behaves as a copy.\n",
      "\n",
      "For example, when doing 'df[col].method(value, inplace=True)', try using 'df.method({col: value}, inplace=True)' or df[col] = df[col].method(value) instead, to perform the operation inplace on the original object.\n",
      "\n",
      "\n",
      "  df[\"Label\"].mask(df[\"Label\"] == \"NeedManualLabel\", \"BENIGN\", inplace=True)\n"
     ]
    },
    {
     "name": "stdout",
     "output_type": "stream",
     "text": [
      "./ModbusDataset/benign/scada-hmi/scada-hmi-network-capture/output/veth5bbeaa2-normal-21_fix_ord.pcap_Flow.csv\n",
      "labels after pre-processing:\n",
      " Label\n",
      "NeedManualLabel    157719\n",
      "Name: count, dtype: int64\n",
      "label count after labelling:\n",
      " Label\n",
      "BENIGN    157719\n",
      "Name: count, dtype: int64\n"
     ]
    },
    {
     "name": "stderr",
     "output_type": "stream",
     "text": [
      "/tmp/ipykernel_34873/2826604722.py:91: FutureWarning: A value is trying to be set on a copy of a DataFrame or Series through chained assignment using an inplace method.\n",
      "The behavior will change in pandas 3.0. This inplace method will never work because the intermediate object on which we are setting values always behaves as a copy.\n",
      "\n",
      "For example, when doing 'df[col].method(value, inplace=True)', try using 'df.method({col: value}, inplace=True)' or df[col] = df[col].method(value) instead, to perform the operation inplace on the original object.\n",
      "\n",
      "\n",
      "  df[\"Label\"].mask(df[\"Label\"] == \"NeedManualLabel\", \"BENIGN\", inplace=True)\n"
     ]
    },
    {
     "name": "stdout",
     "output_type": "stream",
     "text": [
      "./ModbusDataset/benign/scada-hmi/scada-hmi-network-capture/output/veth5bbeaa2-normal-26_fix_ord.pcap_Flow.csv\n",
      "labels after pre-processing:\n",
      " Label\n",
      "NeedManualLabel    157377\n",
      "Name: count, dtype: int64\n",
      "label count after labelling:\n",
      " Label\n",
      "BENIGN    157377\n",
      "Name: count, dtype: int64\n"
     ]
    },
    {
     "name": "stderr",
     "output_type": "stream",
     "text": [
      "/tmp/ipykernel_34873/2826604722.py:91: FutureWarning: A value is trying to be set on a copy of a DataFrame or Series through chained assignment using an inplace method.\n",
      "The behavior will change in pandas 3.0. This inplace method will never work because the intermediate object on which we are setting values always behaves as a copy.\n",
      "\n",
      "For example, when doing 'df[col].method(value, inplace=True)', try using 'df.method({col: value}, inplace=True)' or df[col] = df[col].method(value) instead, to perform the operation inplace on the original object.\n",
      "\n",
      "\n",
      "  df[\"Label\"].mask(df[\"Label\"] == \"NeedManualLabel\", \"BENIGN\", inplace=True)\n"
     ]
    },
    {
     "name": "stdout",
     "output_type": "stream",
     "text": [
      "./ModbusDataset/benign/scada-hmi/scada-hmi-network-capture/output/veth5bbeaa2-normal-30_fix_ord.pcap_Flow.csv\n",
      "labels after pre-processing:\n",
      " Label\n",
      "NeedManualLabel    158617\n",
      "Name: count, dtype: int64\n",
      "label count after labelling:\n",
      " Label\n",
      "BENIGN    158617\n",
      "Name: count, dtype: int64\n"
     ]
    },
    {
     "name": "stderr",
     "output_type": "stream",
     "text": [
      "/tmp/ipykernel_34873/2826604722.py:91: FutureWarning: A value is trying to be set on a copy of a DataFrame or Series through chained assignment using an inplace method.\n",
      "The behavior will change in pandas 3.0. This inplace method will never work because the intermediate object on which we are setting values always behaves as a copy.\n",
      "\n",
      "For example, when doing 'df[col].method(value, inplace=True)', try using 'df.method({col: value}, inplace=True)' or df[col] = df[col].method(value) instead, to perform the operation inplace on the original object.\n",
      "\n",
      "\n",
      "  df[\"Label\"].mask(df[\"Label\"] == \"NeedManualLabel\", \"BENIGN\", inplace=True)\n"
     ]
    },
    {
     "name": "stdout",
     "output_type": "stream",
     "text": [
      "./ModbusDataset/benign/scada-hmi/scada-hmi-network-capture/output/veth5bbeaa2-normal-20_fix_ord.pcap_Flow.csv\n",
      "labels after pre-processing:\n",
      " Label\n",
      "NeedManualLabel    157872\n",
      "Name: count, dtype: int64\n",
      "label count after labelling:\n",
      " Label\n",
      "BENIGN    157872\n",
      "Name: count, dtype: int64\n"
     ]
    },
    {
     "name": "stderr",
     "output_type": "stream",
     "text": [
      "/tmp/ipykernel_34873/2826604722.py:91: FutureWarning: A value is trying to be set on a copy of a DataFrame or Series through chained assignment using an inplace method.\n",
      "The behavior will change in pandas 3.0. This inplace method will never work because the intermediate object on which we are setting values always behaves as a copy.\n",
      "\n",
      "For example, when doing 'df[col].method(value, inplace=True)', try using 'df.method({col: value}, inplace=True)' or df[col] = df[col].method(value) instead, to perform the operation inplace on the original object.\n",
      "\n",
      "\n",
      "  df[\"Label\"].mask(df[\"Label\"] == \"NeedManualLabel\", \"BENIGN\", inplace=True)\n"
     ]
    },
    {
     "name": "stdout",
     "output_type": "stream",
     "text": [
      "./ModbusDataset/benign/scada-hmi/scada-hmi-network-capture/output/veth5bbeaa2-normal-24_fix_ord.pcap_Flow.csv\n",
      "labels after pre-processing:\n",
      " Label\n",
      "NeedManualLabel    157458\n",
      "Name: count, dtype: int64\n",
      "label count after labelling:\n",
      " Label\n",
      "BENIGN    157458\n",
      "Name: count, dtype: int64\n"
     ]
    },
    {
     "name": "stderr",
     "output_type": "stream",
     "text": [
      "/tmp/ipykernel_34873/2826604722.py:91: FutureWarning: A value is trying to be set on a copy of a DataFrame or Series through chained assignment using an inplace method.\n",
      "The behavior will change in pandas 3.0. This inplace method will never work because the intermediate object on which we are setting values always behaves as a copy.\n",
      "\n",
      "For example, when doing 'df[col].method(value, inplace=True)', try using 'df.method({col: value}, inplace=True)' or df[col] = df[col].method(value) instead, to perform the operation inplace on the original object.\n",
      "\n",
      "\n",
      "  df[\"Label\"].mask(df[\"Label\"] == \"NeedManualLabel\", \"BENIGN\", inplace=True)\n"
     ]
    },
    {
     "name": "stdout",
     "output_type": "stream",
     "text": [
      "./ModbusDataset/benign/scada-hmi/scada-hmi-network-capture/output/veth5bbeaa2-normal-31_fix_ord.pcap_Flow.csv\n",
      "labels after pre-processing:\n",
      " Label\n",
      "NeedManualLabel    93910\n",
      "Name: count, dtype: int64\n",
      "label count after labelling:\n",
      " Label\n",
      "BENIGN    93910\n",
      "Name: count, dtype: int64\n"
     ]
    },
    {
     "name": "stderr",
     "output_type": "stream",
     "text": [
      "/tmp/ipykernel_34873/2826604722.py:91: FutureWarning: A value is trying to be set on a copy of a DataFrame or Series through chained assignment using an inplace method.\n",
      "The behavior will change in pandas 3.0. This inplace method will never work because the intermediate object on which we are setting values always behaves as a copy.\n",
      "\n",
      "For example, when doing 'df[col].method(value, inplace=True)', try using 'df.method({col: value}, inplace=True)' or df[col] = df[col].method(value) instead, to perform the operation inplace on the original object.\n",
      "\n",
      "\n",
      "  df[\"Label\"].mask(df[\"Label\"] == \"NeedManualLabel\", \"BENIGN\", inplace=True)\n"
     ]
    },
    {
     "name": "stdout",
     "output_type": "stream",
     "text": [
      "./ModbusDataset/benign/central-agent/central-agent-network-capture/output/veth460b141-normal_fix_ord.pcap_Flow.csv\n",
      "labels after pre-processing:\n",
      " Label\n",
      "NeedManualLabel    17807\n",
      "Name: count, dtype: int64\n",
      "label count after labelling:\n",
      " Label\n",
      "BENIGN    17807\n",
      "Name: count, dtype: int64\n"
     ]
    },
    {
     "name": "stderr",
     "output_type": "stream",
     "text": [
      "/tmp/ipykernel_34873/2826604722.py:91: FutureWarning: A value is trying to be set on a copy of a DataFrame or Series through chained assignment using an inplace method.\n",
      "The behavior will change in pandas 3.0. This inplace method will never work because the intermediate object on which we are setting values always behaves as a copy.\n",
      "\n",
      "For example, when doing 'df[col].method(value, inplace=True)', try using 'df.method({col: value}, inplace=True)' or df[col] = df[col].method(value) instead, to perform the operation inplace on the original object.\n",
      "\n",
      "\n",
      "  df[\"Label\"].mask(df[\"Label\"] == \"NeedManualLabel\", \"BENIGN\", inplace=True)\n"
     ]
    },
    {
     "name": "stdout",
     "output_type": "stream",
     "text": [
      "./ModbusDataset/benign/ied1a/ied1a-network-capture/output/veth4edc015-normal-9_fix_ord.pcap_Flow.csv\n",
      "labels after pre-processing:\n",
      " Label\n",
      "NeedManualLabel    169101\n",
      "Name: count, dtype: int64\n",
      "label count after labelling:\n",
      " Label\n",
      "BENIGN    169101\n",
      "Name: count, dtype: int64\n"
     ]
    },
    {
     "name": "stderr",
     "output_type": "stream",
     "text": [
      "/tmp/ipykernel_34873/2826604722.py:91: FutureWarning: A value is trying to be set on a copy of a DataFrame or Series through chained assignment using an inplace method.\n",
      "The behavior will change in pandas 3.0. This inplace method will never work because the intermediate object on which we are setting values always behaves as a copy.\n",
      "\n",
      "For example, when doing 'df[col].method(value, inplace=True)', try using 'df.method({col: value}, inplace=True)' or df[col] = df[col].method(value) instead, to perform the operation inplace on the original object.\n",
      "\n",
      "\n",
      "  df[\"Label\"].mask(df[\"Label\"] == \"NeedManualLabel\", \"BENIGN\", inplace=True)\n"
     ]
    },
    {
     "name": "stdout",
     "output_type": "stream",
     "text": [
      "./ModbusDataset/benign/ied1a/ied1a-network-capture/output/veth4edc015-normal-6_fix_ord.pcap_Flow.csv\n",
      "labels after pre-processing:\n",
      " Label\n",
      "NeedManualLabel    169660\n",
      "Name: count, dtype: int64\n",
      "label count after labelling:\n",
      " Label\n",
      "BENIGN    169660\n",
      "Name: count, dtype: int64\n"
     ]
    },
    {
     "name": "stderr",
     "output_type": "stream",
     "text": [
      "/tmp/ipykernel_34873/2826604722.py:91: FutureWarning: A value is trying to be set on a copy of a DataFrame or Series through chained assignment using an inplace method.\n",
      "The behavior will change in pandas 3.0. This inplace method will never work because the intermediate object on which we are setting values always behaves as a copy.\n",
      "\n",
      "For example, when doing 'df[col].method(value, inplace=True)', try using 'df.method({col: value}, inplace=True)' or df[col] = df[col].method(value) instead, to perform the operation inplace on the original object.\n",
      "\n",
      "\n",
      "  df[\"Label\"].mask(df[\"Label\"] == \"NeedManualLabel\", \"BENIGN\", inplace=True)\n"
     ]
    },
    {
     "name": "stdout",
     "output_type": "stream",
     "text": [
      "./ModbusDataset/benign/ied1a/ied1a-network-capture/output/veth4edc015-normal-7_fix_ord.pcap_Flow.csv\n",
      "labels after pre-processing:\n",
      " Label\n",
      "NeedManualLabel    170566\n",
      "Name: count, dtype: int64\n",
      "label count after labelling:\n",
      " Label\n",
      "BENIGN    170566\n",
      "Name: count, dtype: int64\n"
     ]
    },
    {
     "name": "stderr",
     "output_type": "stream",
     "text": [
      "/tmp/ipykernel_34873/2826604722.py:91: FutureWarning: A value is trying to be set on a copy of a DataFrame or Series through chained assignment using an inplace method.\n",
      "The behavior will change in pandas 3.0. This inplace method will never work because the intermediate object on which we are setting values always behaves as a copy.\n",
      "\n",
      "For example, when doing 'df[col].method(value, inplace=True)', try using 'df.method({col: value}, inplace=True)' or df[col] = df[col].method(value) instead, to perform the operation inplace on the original object.\n",
      "\n",
      "\n",
      "  df[\"Label\"].mask(df[\"Label\"] == \"NeedManualLabel\", \"BENIGN\", inplace=True)\n"
     ]
    },
    {
     "name": "stdout",
     "output_type": "stream",
     "text": [
      "./ModbusDataset/benign/ied1a/ied1a-network-capture/output/veth4edc015-normal-5_fix_ord.pcap_Flow.csv\n",
      "labels after pre-processing:\n",
      " Label\n",
      "NeedManualLabel    170002\n",
      "Name: count, dtype: int64\n",
      "label count after labelling:\n",
      " Label\n",
      "BENIGN    170002\n",
      "Name: count, dtype: int64\n"
     ]
    },
    {
     "name": "stderr",
     "output_type": "stream",
     "text": [
      "/tmp/ipykernel_34873/2826604722.py:91: FutureWarning: A value is trying to be set on a copy of a DataFrame or Series through chained assignment using an inplace method.\n",
      "The behavior will change in pandas 3.0. This inplace method will never work because the intermediate object on which we are setting values always behaves as a copy.\n",
      "\n",
      "For example, when doing 'df[col].method(value, inplace=True)', try using 'df.method({col: value}, inplace=True)' or df[col] = df[col].method(value) instead, to perform the operation inplace on the original object.\n",
      "\n",
      "\n",
      "  df[\"Label\"].mask(df[\"Label\"] == \"NeedManualLabel\", \"BENIGN\", inplace=True)\n"
     ]
    },
    {
     "name": "stdout",
     "output_type": "stream",
     "text": [
      "./ModbusDataset/benign/ied1a/ied1a-network-capture/output/veth4edc015-normal-11_fix_ord.pcap_Flow.csv\n",
      "labels after pre-processing:\n",
      " Label\n",
      "NeedManualLabel    42147\n",
      "Name: count, dtype: int64\n",
      "label count after labelling:\n",
      " Label\n",
      "BENIGN    42147\n",
      "Name: count, dtype: int64\n"
     ]
    },
    {
     "name": "stderr",
     "output_type": "stream",
     "text": [
      "/tmp/ipykernel_34873/2826604722.py:91: FutureWarning: A value is trying to be set on a copy of a DataFrame or Series through chained assignment using an inplace method.\n",
      "The behavior will change in pandas 3.0. This inplace method will never work because the intermediate object on which we are setting values always behaves as a copy.\n",
      "\n",
      "For example, when doing 'df[col].method(value, inplace=True)', try using 'df.method({col: value}, inplace=True)' or df[col] = df[col].method(value) instead, to perform the operation inplace on the original object.\n",
      "\n",
      "\n",
      "  df[\"Label\"].mask(df[\"Label\"] == \"NeedManualLabel\", \"BENIGN\", inplace=True)\n"
     ]
    },
    {
     "name": "stdout",
     "output_type": "stream",
     "text": [
      "./ModbusDataset/benign/ied1a/ied1a-network-capture/output/veth4edc015-normal-10_fix_ord.pcap_Flow.csv\n",
      "labels after pre-processing:\n",
      " Label\n",
      "NeedManualLabel    167997\n",
      "Name: count, dtype: int64\n",
      "label count after labelling:\n",
      " Label\n",
      "BENIGN    167997\n",
      "Name: count, dtype: int64\n"
     ]
    },
    {
     "name": "stderr",
     "output_type": "stream",
     "text": [
      "/tmp/ipykernel_34873/2826604722.py:91: FutureWarning: A value is trying to be set on a copy of a DataFrame or Series through chained assignment using an inplace method.\n",
      "The behavior will change in pandas 3.0. This inplace method will never work because the intermediate object on which we are setting values always behaves as a copy.\n",
      "\n",
      "For example, when doing 'df[col].method(value, inplace=True)', try using 'df.method({col: value}, inplace=True)' or df[col] = df[col].method(value) instead, to perform the operation inplace on the original object.\n",
      "\n",
      "\n",
      "  df[\"Label\"].mask(df[\"Label\"] == \"NeedManualLabel\", \"BENIGN\", inplace=True)\n"
     ]
    },
    {
     "name": "stdout",
     "output_type": "stream",
     "text": [
      "./ModbusDataset/benign/ied1a/ied1a-network-capture/output/veth4edc015-normal-4_fix_ord.pcap_Flow.csv\n",
      "labels after pre-processing:\n",
      " Label\n",
      "NeedManualLabel    167254\n",
      "Name: count, dtype: int64\n",
      "label count after labelling:\n",
      " Label\n",
      "BENIGN    167254\n",
      "Name: count, dtype: int64\n"
     ]
    },
    {
     "name": "stderr",
     "output_type": "stream",
     "text": [
      "/tmp/ipykernel_34873/2826604722.py:91: FutureWarning: A value is trying to be set on a copy of a DataFrame or Series through chained assignment using an inplace method.\n",
      "The behavior will change in pandas 3.0. This inplace method will never work because the intermediate object on which we are setting values always behaves as a copy.\n",
      "\n",
      "For example, when doing 'df[col].method(value, inplace=True)', try using 'df.method({col: value}, inplace=True)' or df[col] = df[col].method(value) instead, to perform the operation inplace on the original object.\n",
      "\n",
      "\n",
      "  df[\"Label\"].mask(df[\"Label\"] == \"NeedManualLabel\", \"BENIGN\", inplace=True)\n"
     ]
    },
    {
     "name": "stdout",
     "output_type": "stream",
     "text": [
      "./ModbusDataset/benign/ied1a/ied1a-network-capture/output/veth4edc015-normal-8_fix_ord.pcap_Flow.csv\n",
      "labels after pre-processing:\n",
      " Label\n",
      "NeedManualLabel    169112\n",
      "Name: count, dtype: int64\n",
      "label count after labelling:\n",
      " Label\n",
      "BENIGN    169112\n",
      "Name: count, dtype: int64\n"
     ]
    },
    {
     "name": "stderr",
     "output_type": "stream",
     "text": [
      "/tmp/ipykernel_34873/2826604722.py:91: FutureWarning: A value is trying to be set on a copy of a DataFrame or Series through chained assignment using an inplace method.\n",
      "The behavior will change in pandas 3.0. This inplace method will never work because the intermediate object on which we are setting values always behaves as a copy.\n",
      "\n",
      "For example, when doing 'df[col].method(value, inplace=True)', try using 'df.method({col: value}, inplace=True)' or df[col] = df[col].method(value) instead, to perform the operation inplace on the original object.\n",
      "\n",
      "\n",
      "  df[\"Label\"].mask(df[\"Label\"] == \"NeedManualLabel\", \"BENIGN\", inplace=True)\n"
     ]
    }
   ],
   "source": [
    "for dir in benign_datasets_dir:\n",
    "    print(dir)\n",
    "    label_rest_as_benign_and_write_csv(read_csvs_from_path_and_reformat(dir) ,dir)\n",
    "            "
   ]
  },
  {
   "cell_type": "code",
   "execution_count": null,
   "id": "ec364992",
   "metadata": {},
   "outputs": [],
   "source": []
  },
  {
   "cell_type": "markdown",
   "id": "93eb5bfa",
   "metadata": {},
   "source": [
    "#### External Attacks :\n",
    "- Attacks from an unknown IP address (185.175.0.7) targeting 185.175.0.4.\n",
    "#### Compromised SCADA Attacks :\n",
    "- Attacks from 185.175.0.3 targeting 185.175.0.4 and 185.175.0.8.\n",
    "- Days 12 to 15 missed in attack logs.\n",
    "#### Compromised IED Attacks\n",
    "- Attacks from 185.175.0.5 targeting 185.175.0.2.\n"
   ]
  }
 ],
 "metadata": {
  "kernelspec": {
   "display_name": "flower",
   "language": "python",
   "name": "python3"
  },
  "language_info": {
   "codemirror_mode": {
    "name": "ipython",
    "version": 3
   },
   "file_extension": ".py",
   "mimetype": "text/x-python",
   "name": "python",
   "nbconvert_exporter": "python",
   "pygments_lexer": "ipython3",
   "version": "3.11.7"
  }
 },
 "nbformat": 4,
 "nbformat_minor": 5
}
